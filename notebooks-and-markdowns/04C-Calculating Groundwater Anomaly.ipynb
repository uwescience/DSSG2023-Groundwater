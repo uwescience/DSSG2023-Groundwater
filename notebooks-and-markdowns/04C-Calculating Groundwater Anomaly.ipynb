{
 "cells": [
  {
   "cell_type": "markdown",
   "metadata": {},
   "source": [
    "## ΔGW = ΔTWS - (ΔSM + ΔSWE)"
   ]
  },
  {
   "cell_type": "code",
   "execution_count": null,
   "metadata": {},
   "outputs": [],
   "source": [
    "# estimate groundwater anomolies and convert to meters\n",
    "gw_final_df['gw_estimate'] = gw_final_df['lwe'] - (gw_final_df['d_SWE_inst_meters'] + gw_final_df['d_SoilMoi0_10cm_inst_meters'])"
   ]
  },
  {
   "cell_type": "markdown",
   "metadata": {},
   "source": [
    "Congratulations! You have just constructed a dataset with groundwater anamoly estimates for each pixel in the Colorado River Basin. Below is a time series showing groundwater anomolies in the Basin over time. "
   ]
  },
  {
   "cell_type": "code",
   "execution_count": null,
   "metadata": {},
   "outputs": [],
   "source": [
    "gw_crb = gw_final_df[['time','gw_estimate']]\n",
    "gw_crb = gw_crb.groupby(['time']).mean().reset_index()"
   ]
  },
  {
   "cell_type": "code",
   "execution_count": null,
   "metadata": {},
   "outputs": [],
   "source": [
    "import matplotlib.pyplot as plt\n",
    "\n",
    "plt.plot('time', 'gw_estimate', data=gw_crb)\n",
    "plt.show()"
   ]
  },
  {
   "cell_type": "markdown",
   "metadata": {},
   "source": [
    "Now, we can move on to the next notebook where we can visualize this output in more depth. "
   ]
  },
  {
   "cell_type": "markdown",
   "metadata": {},
   "source": [
    "## Citations\n",
    "\n",
    "(Sharma D, Patnaik S, Biswal B, Reager JT. Characterization of Basin-Scale Dynamic Storage–Discharge Relationship Using Daily GRACE Based Storage Anomaly Data. Geosciences. 2020; 10(10):404. https://doi.org/10.3390/geosciences10100404). \n",
    "\n",
    "Merging shapefiles in ArcGIS. (n.d.). Retrieved July 24, 2023, from https://www.restore.ac.uk/geo-refer/91010mwors01y00000000.php\n"
   ]
  }
 ],
 "metadata": {
  "kernelspec": {
   "display_name": "Python 3.11.2 64-bit",
   "language": "python",
   "name": "python3"
  },
  "language_info": {
   "name": "python",
   "version": "3.11.2"
  },
  "orig_nbformat": 4,
  "vscode": {
   "interpreter": {
    "hash": "ead1b95f633dc9c51826328e1846203f51a198c6fb5f2884a80417ba131d4e82"
   }
  }
 },
 "nbformat": 4,
 "nbformat_minor": 2
}
