{
 "cells": [
  {
   "cell_type": "markdown",
   "id": "a4b048ee",
   "metadata": {},
   "source": [
    "\n",
    "\n",
    "<h1 align=\"center\"><font color='black'>Instructions on Downloading the GRACE & GLDAS Data </font></h1>\n",
    "\n"
   ]
  },
  {
   "cell_type": "markdown",
   "id": "208b97db",
   "metadata": {},
   "source": [
    "<style>\n",
    "  .alert-info {\n",
    "    color: black;\n",
    "    background-color: #e6f1ff;\n",
    "    border-radius: 5px;\n",
    "    box-shadow: 0 2px 5px rgba(0, 0, 0, 0.1);\n",
    "    padding: 20px;\n",
    "  }\n",
    "</style>\n",
    "\n",
    "\n",
    "<div class=\"alert alert-block alert-info\">\n",
    "  <b>The goal of this notebook is to provide instructions for:</b>\n",
    "  <br>\n",
    "  <ul>\n",
    "    <li>Downloading these specific datasets:\n",
    "      <ol>\n",
    "        <li>JPL GRACE and GRACE-FO Mascon Ocean, Ice, and Hydrology Equivalent Water Height Coastal Resolution Improvement (CRI) Filtered Release 06.1 Version 03 <br> <b>[Time Range: April 2002 till April 2023]<b></li>\n",
    "        <li>GLDAS Noah Land Surface Model L4 monthly 0.25 x 0.25-degree V2.1. <br> <b>[Time Range: Jan 2000 to March 2023]</b></li>\n",
    "      </ol>\n",
    "    </li>\n",
    "      <br>\n",
    "    <li>Downloading multiple versions of GRACE & GLDAS data & potentially other datasets of interest hosted on NASA Earth Data</li>\n",
    "  </ul>\n",
    "</div>\n"
   ]
  },
  {
   "cell_type": "markdown",
   "id": "cfe9cd33",
   "metadata": {},
   "source": [
    "\n",
    "<h2 align=\"left\"><font color='gray'>Section I: Downloading GRACE & GLDAS Data (needs python >= 3.7)</font></h2>"
   ]
  },
  {
   "cell_type": "markdown",
   "id": "ab7e24b4",
   "metadata": {},
   "source": [
    "<div class=\"alert alert-block alert-info\">\n",
    "  \n",
    "  <b>Step 1: Register for an Account</b>\n",
    "  <br>\n",
    "      <br>\n",
    "\n",
    "  To access the data, you need to register for an account at <a href=\"https://urs.earthdata.nasa.gov\"><b>https://urs.earthdata.nasa.gov</b></a>. Follow these steps to create your profile:\n",
    "  <ol>\n",
    "    <li>Provide a username, password, email address, and details about your title/role/institution.</li>\n",
    "    <li>You'll receive an email asking you to confirm your account activation.</li>\n",
    "    <li>Don't forget to click on the link in the email to fully activate your account!</li>\n",
    "  </ol>\n",
    "</div>"
   ]
  },
  {
   "cell_type": "markdown",
   "id": "17472b29",
   "metadata": {},
   "source": [
    "<div class=\"alert alert-block alert-info\">\n",
    "<b>Step 2:</b> To download the GRACE dataset, download the shell file from <a href=\"https://github.com/uwescience/DSSG2023-Groundwater/blob/main/scripts/data/download_data.sh\"><b>here</b></a>.\n",
    "    \n",
    "  \n",
    "</div>"
   ]
  },
  {
   "cell_type": "markdown",
   "id": "707d694d",
   "metadata": {},
   "source": [
    "\n",
    "<div class=\"alert alert-block alert-info\">\n",
    "<b>Step 3: </b> In the terminal, run <code>echo `$HOME`</code>, then <code>pwd</code>. Make sure the two locations are the same.\n",
    "</div>"
   ]
  },
  {
   "cell_type": "markdown",
   "id": "6cb4edf0",
   "metadata": {},
   "source": [
    "<div class=\"alert alert-block alert-info\">\n",
    "  <b>Step 4: Create and Configure .netrc File</b>\n",
    "  <br>\n",
    "  To set up your .netrc file for accessing [https://urs.earthdata.nasa.gov](https://urs.earthdata.nasa.gov), follow these steps:\n",
    "  <ol>\n",
    "    <li>Open the terminal.</li>\n",
    "    <li>Create and open the .netrc file at the desired location with the following commands:</li>\n",
    "    <code>touch .netrc</code> (creates the file) <br>\n",
    "    <code>nano .netrc</code> (opens the file in the nano text editor)</li>\n",
    "    <li>In the .netrc file, enter the following information:</li>\n",
    "    <pre><code>machine urs.earthdata.nasa.gov\n",
    "login &lt;your username&gt;\n",
    "password &lt;your password&gt;</code></pre>\n",
    "    <li>Replace &lt;your username&gt; and &lt;your password&gt; with your actual login information from [https://urs.earthdata.nasa.gov](https://urs.earthdata.nasa.gov).</li>\n",
    "    <li>Save and close the file using the following keyboard shortcuts:</li>\n",
    "    <ul>\n",
    "      <li><kbd>Ctrl+O</kbd> (to save the changes)</li>\n",
    "      <li><kbd>Enter</kbd> (to confirm the file name)</li>\n",
    "      <li><kbd>Ctrl+X</kbd> (to exit the nano text editor)</li>\n",
    "    </ul>\n",
    "  </ol>\n",
    "</div>"
   ]
  },
  {
   "cell_type": "code",
   "execution_count": 3,
   "id": "506c8c9e",
   "metadata": {},
   "outputs": [
    {
     "data": {
      "text/html": [
       "<img src=\"Step4.gif\"/>"
      ],
      "text/plain": [
       "<IPython.core.display.Image object>"
      ]
     },
     "execution_count": 3,
     "metadata": {},
     "output_type": "execute_result"
    }
   ],
   "source": [
    "from IPython.display import Image\n",
    "\n",
    "# Display the GIF\n",
    "Image(url='Step4.gif')"
   ]
  },
  {
   "cell_type": "code",
   "execution_count": null,
   "id": "818e65ac",
   "metadata": {},
   "outputs": [],
   "source": [
    "pw"
   ]
  },
  {
   "cell_type": "markdown",
   "id": "ae3546a4",
   "metadata": {},
   "source": [
    "<div class=\"alert alert-block alert-info\">  \n",
    "   \n",
    "  <b>Step 5: Download the Dataset</b>\n",
    "     <br>\n",
    "  <br>\n",
    "  To download the dataset using the downloaded shell file in the terminal, follow these steps:\n",
    "  <ol>\n",
    "    <li>Open the terminal.</li>\n",
    "    <li>Navigate to the folder where the shell file is downloaded.</li>\n",
    "    <li>Type the command: <code>chmod 777 download_data.sh</code> and press Enter.</li>\n",
    "    <li>Now, run the command: <code>./download_data.sh</code> to initiate the download process.</li>\n",
    "  </ol>\n",
    "</div>"
   ]
  },
  {
   "cell_type": "markdown",
   "id": "b92084aa",
   "metadata": {},
   "source": [
    "\n",
    "<div class=\"alert alert-block alert-info\">\n",
    "<b>Step 6:</b> The download will begin! :D\n",
    "</div>"
   ]
  },
  {
   "cell_type": "markdown",
   "id": "7ab64acc",
   "metadata": {},
   "source": [
    "<h2 align=\"left\"><font color='gray'>Section II: Customising GRACE-FO and GLDAS Data</font></h2>"
   ]
  },
  {
   "cell_type": "markdown",
   "id": "9a13cbed",
   "metadata": {},
   "source": [
    "<div class=\"alert alert-block alert-info\">\n",
    "  <b> How to download GRACE-FO data for a different time period?</b>\n",
    "  <br>\n",
    "   <br>\n",
    "  The shell file contains the path to download GRACE-FO data till 2023-06-23. If you want to download data for different time points, follow these steps to edit the start or end date in the shell file:\n",
    "  <ol>\n",
    "    <li>Open the terminal.</li>\n",
    "    <li>Navigate to the folder where the shell file is downloaded.</li>\n",
    "    <li>Open the file in a text editor using the command: <code>nano download_data.sh</code></li>\n",
    "    <li>Edit the start and end dates as per your requirement.</li>\n",
    "    <li>Save your changes by pressing <kbd>Ctrl+O</kbd> and then confirm the filename with <kbd>Enter</kbd>.</li>\n",
    "    <li>Exit the text editor by pressing <kbd>Ctrl+X</kbd>.</li>\n",
    "  </ol>\n",
    "</div>"
   ]
  },
  {
   "cell_type": "markdown",
   "id": "7efd6003",
   "metadata": {},
   "source": [
    "<div class=\"alert alert-block alert-info\">\n",
    "  <b>How to download GLDAS data for a different time period? Or any other dataset from the NASA Earth Data?</b>\n",
    "  <br>\n",
    "  <br>\n",
    "  <ol>\n",
    "    <li>Locate the most recent GLDAS dataset or any other dataset you would like to download on <a href=\"https://search.earthdata.nasa.gov/\">https://search.earthdata.nasa.gov/</a> and click on it.</li>\n",
    "    <li>Once selected, press the green <code>Download All</code> button. Then click <code>Download Data</code> on the next screen.</li>\n",
    "    <li>Wait until the download is 100% ready.</li>\n",
    "    <li>Click on the <code>Download Script</code> tab. Copy the provided shell script.</li>\n",
    "    <li>Open the previously downloaded <a href=\"https://github.com/uwescience/DSSG2023-Groundwater/blob/main/scripts/data/download_data.sh\"><b>shell script</b></a>. Open it in any text editor (notepad, pages, etc.). Replace the GLDAS script with the one that you just copied. Save it.</li>\n",
    "    <li>Repeat Steps 3 till Steps 6 from Section I.</li>\n",
    "  </ol>\n",
    "</div>\n"
   ]
  }
 ],
 "metadata": {
  "kernelspec": {
   "display_name": "Python 3 (ipykernel)",
   "language": "python",
   "name": "python3"
  },
  "language_info": {
   "codemirror_mode": {
    "name": "ipython",
    "version": 3
   },
   "file_extension": ".py",
   "mimetype": "text/x-python",
   "name": "python",
   "nbconvert_exporter": "python",
   "pygments_lexer": "ipython3",
   "version": "3.11.2"
  }
 },
 "nbformat": 4,
 "nbformat_minor": 5
}
