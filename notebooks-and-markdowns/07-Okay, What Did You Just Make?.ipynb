{
 "cells": [
  {
   "cell_type": "markdown",
   "id": "18c3875e",
   "metadata": {},
   "source": [
    "# Okay, what did you just make?\n",
    "\n",
    "* Uncertainties (Limitations?)\n",
    "* What you explicitly measured\n",
    "* Deviation from mean\n",
    "* Format"
   ]
  },
  {
   "cell_type": "markdown",
   "id": "229950ed",
   "metadata": {},
   "source": [
    "# Data in a tabular format\n",
    "* Time information\n",
    "* Longitude/latitude*\n",
    "* Variables of interest, measured in a specific way\n",
    "  * Deviation from a mean\n",
    "  * Units and how they differ"
   ]
  },
  {
   "cell_type": "markdown",
   "id": "ccc6946e",
   "metadata": {},
   "source": [
    "Longitude and latitude, in reality, can be measured to a very specific degree, down to \n",
    "\n",
    "Each degree thus represents a chuck of land approximately 235.46 miles squared."
   ]
  },
  {
   "cell_type": "markdown",
   "id": "415e2002",
   "metadata": {},
   "source": [
    "<img src=\"http://neoproterozoic.ess.washington.edu/jhub/user/maiampow/files/lonlat.png\" width=\"500\" />"
   ]
  },
  {
   "cell_type": "markdown",
   "id": "c63019be",
   "metadata": {},
   "source": [
    "\n",
    "For each point $p_i$, you compute\n",
    "\n",
    "$$d_i = p_i - \\mu$$\n",
    "\n",
    "where $\\mu$ is the average value over the time series. We then plot these distances to obtain the devations from the mean over time.\n"
   ]
  },
  {
   "cell_type": "markdown",
   "id": "0c6b01cb",
   "metadata": {},
   "source": [
    "<img src=\"http://neoproterozoic.ess.washington.edu/jhub/user/maiampow/files/plots.png\" width=\"900\" />"
   ]
  }
 ],
 "metadata": {
  "kernelspec": {
   "display_name": "Python 3 (ipykernel)",
   "language": "python",
   "name": "python3"
  },
  "language_info": {
   "codemirror_mode": {
    "name": "ipython",
    "version": 3
   },
   "file_extension": ".py",
   "mimetype": "text/x-python",
   "name": "python",
   "nbconvert_exporter": "python",
   "pygments_lexer": "ipython3",
   "version": "3.11.2"
  }
 },
 "nbformat": 4,
 "nbformat_minor": 5
}
