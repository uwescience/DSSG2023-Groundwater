{
 "cells": [
  {
   "cell_type": "code",
   "execution_count": 1,
   "id": "a6a33776",
   "metadata": {},
   "outputs": [
    {
     "name": "stdout",
     "output_type": "stream",
     "text": [
      "Hello world\n"
     ]
    }
   ],
   "source": [
    "print(\"Hello world\")"
   ]
  },
  {
   "cell_type": "code",
   "execution_count": null,
   "id": "3d851944",
   "metadata": {},
   "outputs": [],
   "source": [
    "print(\"this is Kim\")\n",
    "print(\"Hello!\")\n"
   ]
=======
   "execution_count": null,
   "metadata": {},
   "outputs": [],
   "source": []
  }
 ],
 "metadata": {
  "kernelspec": {
   "display_name": "Python 3",
   "language": "python",
   "name": "python3"
  },
  "language_info": {