{
 "cells": [
  {
   "cell_type": "markdown",
   "id": "a4b048ee",
   "metadata": {},
   "source": [
    "\n",
    "\n",
    "<h1 align=\"center\"><font color='blue'>Instructions on Downloading the GRACE Data </font></h1>\n"
   ]
  },
  {
   "cell_type": "markdown",
   "id": "cfe9cd33",
   "metadata": {},
   "source": [
    "\n",
    "<h2 align=\"left\"><font color='gray'>Method I: Downloading through Podaac (needs python >= 3.7)</font></h2>"
   ]
  },
  {
   "cell_type": "markdown",
   "id": "ab7e24b4",
   "metadata": {},
   "source": [
    "\n",
    "<div class=\"alert alert-block alert-info\">\n",
    "<b>1.</b> Register for an account <a href=\"https://urs.earthdata.nasa.gov\"><b>here</b></a>. In order to create a profile, you will be prompted to provide a username, password, email address, and data about your title/role/institution. You'll receive an e-mail asking you to confirm account activation, don't forget to click on the link in that e-mail to fully activate your account!\n",
    "</div>"
   ]
  },
  {
   "cell_type": "markdown",
   "id": "8012b67e",
   "metadata": {},
   "source": [
    "<div class=\"alert alert-block alert-info\">\n",
    "<b>2.</b> Locate the dataset you want to download. Click the download button under Capabilities and jot down the PO.DAAC Data Subscriber code. For example, the GRACE dataset is located in GRACE website and the PO.DAAC Data Subscriber code is <code>podaac-data-subscriber -c TELLUS_GRAC_L3_CSR_RL06_LND_v04 -d ./data/TELLUS_GRAC_L3_CSR_RL06_LND_v04 --start-date 2002-04-05T00:00:00Z</code>.\n",
    "</div>"
   ]
  },
  {
   "cell_type": "markdown",
   "id": "da7dbe12",
   "metadata": {},
   "source": [
    "<div class=\"alert alert-block alert-info\">  \n",
    "<b>3.</b>  Now, we can follow the instruction to download the data from PODAAC's Github page. Note the following command works on Macbook, Windows users should consult the Github page for more detail. First, run the following command in terminal pip install podaac-data-subscriber. This requires Python >= 3.7.  \n",
    "</div>"
   ]
  },
  {
   "cell_type": "markdown",
   "id": "707d694d",
   "metadata": {},
   "source": [
    "\n",
    "<div class=\"alert alert-block alert-info\">\n",
    "<b>4.</b> Run <code>echo `$HOME`</code>, then <code>pwd</code>. Make sure the two locations are the same.\n",
    "</div>"
   ]
  },
  {
   "cell_type": "markdown",
   "id": "6cb4edf0",
   "metadata": {},
   "source": [
    "<div class=\"alert alert-block alert-info\">\n",
    "<b>5.</b> Create and write a .netrc file by running the following commands at the same location: \n",
    "<br>\n",
    "<code>touch .netrc</code>, then <code>nano .netrc</code>.\n",
    "<br>\n",
    "In the .netrc file, you should put in the following information:\n",
    "<br>\n",
    "<code>machine urs.earthdata.nasa.gov</code>\n",
    "<br>\n",
    "<code>login &lt;your username&gt;</code>\n",
    "<br>\n",
    "<code>password &lt;your password&gt;</code>\n",
    "<br>\n",
    "The username and password are your login information from [https://urs.earthdata.nasa.gov](https://urs.earthdata.nasa.gov).\n",
    "<br>\n",
    "Then, save and close the file using <kbd>Ctrl+O</kbd>, <kbd>Enter</kbd>, and then <kbd>Ctrl+W</kbd>.\n",
    "</div>\n"
   ]
  },
  {
   "cell_type": "markdown",
   "id": "ae3546a4",
   "metadata": {},
   "source": [
    "<div class=\"alert alert-block alert-info\">\n",
    "<b>6.</b> Then, download the dataset you want by entering the PO.DAAC Data Subscriber code from step 2 in the terminal.\n",
    "<br>\n",
    "If you want to \"download PO.DAAC data once in a while or prefer to do it 'on-demand'\", instead of continuously pulling the latest data, change the subscriber in the command line to `downloader` and add an end date to specify the data range you want to download.\n",
    "<br>\n",
    "For example, for GRACE data, you can modify the command line from:\n",
    "<br>\n",
    "<code>podaac-data-subscriber -c TELLUS_GRAC_L3_CSR_RL06_LND_v04 -d ./data/TELLUS_GRAC_L3_CSR_RL06_LND_v04 --start-date 2002-04-05T00:00:00Z</code>\n",
    "<br>\n",
    "to:\n",
    "<br>\n",
    "<code>podaac-data-downloader -c TELLUS_GRAC_L3_CSR_RL06_LND_v04 -d ./data/TELLUS_GRAC_L3_CSR_RL06_LND_v04 --start-date 2002-04-05T00:00:00Z --end-date 2017-10-19T00:00:00Z</code>\n",
    "</div>\n"
   ]
  },
  {
   "cell_type": "markdown",
   "id": "26728ccb",
   "metadata": {},
   "source": [
    "<h2 align=\"left\"> <font color='gray'>Method II: Shell Script  (More Time-Consuming; doesn't require python) </font></h2>\n",
    "\n"
   ]
  },
  {
   "cell_type": "markdown",
   "id": "4c1f1937",
   "metadata": {},
   "source": [
    "<div class=\"alert alert-block alert-info\">\n",
    "<b>1.</b> Register for an account on https://urs.earthdata.nasa.gov. In order to create a profile, you will be prompted to provide a username, password, email address, and data about your title/role/institution. You'll receive an e-mail asking you to confirm account activation, don't forget to click on the link in that e-mail to fully activate your account!\n",
    "</div>\n",
    "\n",
    "\n"
   ]
  },
  {
   "cell_type": "markdown",
   "id": "2a8141f6",
   "metadata": {},
   "source": [
    "<div class=\"alert alert-block alert-info\">\n",
    "  <b>2.</b> Locate the dataset you would like to download on <a href=\"https://search.earthdata.nasa.gov/\">https://search.earthdata.nasa.gov/</a> and click on it. Once selected, press the green \"Download Data\" button.\n",
    "</div>\n",
    "\n",
    "<br>\n",
    "\n",
    "<div style=\"text-align:center\">\n",
    "  <img src=\"1..png\" alt=\"\" width=\"500\">\n",
    "</div>\n"
   ]
  },
  {
   "cell_type": "markdown",
   "id": "a2afd7c7",
   "metadata": {},
   "source": [
    "<div class=\"alert alert-block alert-warning\">  \n",
    "<b>3.</b> Wait until the download is 100% ready.\n",
    "</div>\n",
    "\n",
    "<div style=\"text-align:center\">\n",
    "    <img src=\"2.png\" alt=\"Screenshot\" width=\"500\">\n",
    "</div>\n",
    "\n"
   ]
  },
  {
   "cell_type": "code",
   "execution_count": 6,
   "id": "ed20cc40",
   "metadata": {},
   "outputs": [
    {
     "data": {
      "text/plain": [
       "'/home/asetia/code/DSSG2023-Groundwater/Snippets/Asetia1'"
      ]
     },
     "execution_count": 6,
     "metadata": {},
     "output_type": "execute_result"
    }
   ],
   "source": [
    "pwd"
   ]
  },
  {
   "cell_type": "markdown",
   "id": "7a1530c3",
   "metadata": {},
   "source": [
    "\n",
    "<div class=\"alert alert-block alert-info\">\n",
    "<b>4.</b> Click the `Download Script` tab. Create a path on the Remote Directory to store your data. In the desired folder, create a shell (.sh) file (called download.sh, for example). Copy and paste the provided script into your shell (.sh) file. \n",
    "</div>\n",
    "<br>\n",
    "<div style=\"text-align:center\">\n",
    "    <img src=\"4.png\" alt=\"Screenshot\" width=\"500\">\n",
    "</div>"
   ]
  },
  {
   "cell_type": "markdown",
   "id": "ac283968",
   "metadata": {},
   "source": [
    "<div class=\"alert alert-block alert-info\">\n",
    "<b>5.</b>  In the terminal, run the command <code>chmod 777 download.sh</code> (replace \"download\" with whatever you named your shell file). This command just allows you to access and run the shell file.\n",
    "\n",
    "</div>\n",
    "\n",
    "\n"
   ]
  },
  {
   "cell_type": "markdown",
   "id": "9d882a90",
   "metadata": {},
   "source": [
    "<div class=\"alert alert-block alert-info\">\n",
    "<b>6.</b> In the terminal, run the command <code>./download.sh</code> (once again, replace \"download\" with whatever you named your shell file). You will be prompted to type your Earthdata username and password.\n",
    "</div>"
   ]
  },
  {
   "cell_type": "markdown",
   "id": "b92084aa",
   "metadata": {},
   "source": [
    "\n",
    "<div class=\"alert alert-block alert-info\">\n",
    "<b>7.</b> The download will begin! :D\n",
    "</div>"
   ]
  }
 ],
 "metadata": {
  "kernelspec": {
   "display_name": "Python 3 (ipykernel)",
   "language": "python",
   "name": "python3"
  },
  "language_info": {
   "codemirror_mode": {
    "name": "ipython",
    "version": 3
   },
   "file_extension": ".py",
   "mimetype": "text/x-python",
   "name": "python",
   "nbconvert_exporter": "python",
   "pygments_lexer": "ipython3",
   "version": "3.11.2"
  }
 },
 "nbformat": 4,
 "nbformat_minor": 5
}
