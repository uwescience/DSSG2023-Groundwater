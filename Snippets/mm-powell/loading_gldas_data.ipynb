{
 "cells": [
  {
   "cell_type": "code",
   "execution_count": 1,
   "id": "2d5e44fa",
   "metadata": {},
   "outputs": [],
   "source": [
    "import netCDF4 as nc\n",
    "import pandas as pd\n",
    "import os\n",
    "import numpy as np\n",
    "import xarray as xr"
   ]
  },
  {
   "cell_type": "code",
   "execution_count": 13,
   "id": "d1a4e03f",
   "metadata": {},
   "outputs": [],
   "source": [
    "gl_path = \"/home/maiampow/remoteData/GLDAS/NOAH_monthly_L4/\""
   ]
  },
  {
   "cell_type": "code",
   "execution_count": null,
   "id": "f1f40040",
   "metadata": {},
   "outputs": [],
   "source": [
    "gl_df = pd.DataFrame()\n",
    "\n",
    "#Iterating through files in path\n",
    "for filename in os.listdir(gl_path):\n",
    "    try:\n",
    "        #Reading in data as xarray then converting to DataFrame\n",
    "        xd = xr.open_dataset(gl_path+str(filename))\n",
    "        xd_df = xd.to_dataframe()\n",
    "        xd_df.reset_index(inplace=True)\n",
    "\n",
    "        #Extracting only needed columns \n",
    "        df_slice = xd_df[[\"time\", \"lon\", \"lat\", \"SWE_inst\", 'SoilMoi0_10cm_inst',\n",
    "           'SoilMoi10_40cm_inst', 'SoilMoi40_100cm_inst', 'SoilMoi100_200cm_inst']]    \n",
    "\n",
    "        gl_df = pd.concat([gl_df, df_slice], axis=0)\n",
    "        \n",
    "    except:\n",
    "        pass"
   ]
  },
  {
   "cell_type": "code",
   "execution_count": null,
   "id": "7b73f254",
   "metadata": {},
   "outputs": [],
   "source": [
    "#Loading preprocessed GLDAS from CSV instead\n",
    "gl_csv = pd.read_csv(\"/home/maiampow/remoteData/CSV/gldas_df.csv\")"
   ]
  },
  {
   "cell_type": "code",
   "execution_count": null,
   "id": "d568cf9b",
   "metadata": {},
   "outputs": [],
   "source": []
  }
 ],
 "metadata": {
  "kernelspec": {
   "display_name": "Python 3 (ipykernel)",
   "language": "python",
   "name": "python3"
  },
  "language_info": {
   "codemirror_mode": {
    "name": "ipython",
    "version": 3
   },
   "file_extension": ".py",
   "mimetype": "text/x-python",
   "name": "python",
   "nbconvert_exporter": "python",
   "pygments_lexer": "ipython3",
   "version": "3.11.2"
  }
 },
 "nbformat": 4,
 "nbformat_minor": 5
}
