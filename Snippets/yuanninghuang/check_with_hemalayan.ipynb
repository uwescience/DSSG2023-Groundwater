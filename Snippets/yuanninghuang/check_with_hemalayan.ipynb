{
 "cells": [
  {
   "cell_type": "code",
   "execution_count": 3,
   "metadata": {},
   "outputs": [],
   "source": [
    "import os\n",
    "import glob\n",
    "import time\n",
    "import math\n",
    "\n",
    "import numpy as np\n",
    "import pandas as pd\n",
    "import xarray as xr\n",
    "import rioxarray\n",
    "import geopandas as gpd\n",
    "from shapely.geometry import mapping\n",
    "from rasterio.enums import Resampling"
   ]
  },
  {
   "cell_type": "code",
   "execution_count": 4,
   "metadata": {},
   "outputs": [],
   "source": [
    "# Calculate Surface Area of Grid Cell\n",
    "def calculate_surface_area(ds):\n",
    "    # Find the lon size\n",
    "    lon_interval_size = ds.variables['lon'][1] - ds.variables['lon'][0]\n",
    "    # Find the lat size\n",
    "    lat_interval_size = ds.variables['lat'][1] - ds.variables['lat'][0]\n",
    "    surface_area_array = np.array([6371000*math.radians(lat_interval_size)*6371000*math.radians(lon_interval_size)*math.cos(math.radians(lat)) for lat in ds.lat.values])\n",
    "    return surface_area_array"
   ]
  },
  {
   "cell_type": "code",
   "execution_count": 5,
   "metadata": {},
   "outputs": [],
   "source": [
    "# Unit Factors Dict\n",
    "unit_factors = {\"mm\": 1000, \"kg/m2\": 1000, \"kg/m^2\": 1000, \"cm\": 100, \"dm\": 10, \"m\": 1, \"km\": .001, \"kg m-2\": 1000}"
   ]
  },
  {
   "cell_type": "code",
   "execution_count": 6,
   "metadata": {},
   "outputs": [],
   "source": [
    "# For a given gldas dataset and surface area data array calculate anomalies for each variable\n",
    "def calculate_gldas_anomalies(ds, surface_area_da):\n",
    "    for var in ds.variables:\n",
    "        if var not in ['lat', 'lon', 'time', 'spatial_ref']:\n",
    "            # Calculate variable mean from 2004 to 2009\n",
    "            var_mean = ds.sel(time=slice('2004-01-01', '2009-12-31')).mean('time')[var]\n",
    "#             ds.sel(time=slice('2004-01-01', '2009-12-31')).mean('time')[var]\n",
    "            var_factor = unit_factors[ds[var].units]\n",
    "            ds[var] = (ds[var] - var_mean)/var_factor * surface_area_da\n",
    "            ds[var] = ds[var]*100/surface_area_da\n",
    "    return ds"
   ]
  },
  {
   "cell_type": "code",
   "execution_count": 7,
   "metadata": {},
   "outputs": [],
   "source": [
    "### import GLDAS data, filter to CRB, combine into one dataframe \n",
    "\n",
    "gldas_path = \"/home/yhuang21/remoteData/GLDAS/NOAH_monthly_L4/\"\n",
    "\n",
    "gldas_df = pd.DataFrame()\n",
    "\n",
    "#Iterating through files in path\n",
    "for filename in os.listdir(gldas_path):\n",
    "    \n",
    "    if filename.endswith(\".nc4\"):\n",
    "        \n",
    "        #Reading in data as xarray then converting to DataFrame\n",
    "        xd = xr.open_dataset(gldas_path+str(filename))\n",
    "        xd_df = xd.to_dataframe()\n",
    "\n",
    "        xd_df.reset_index(inplace=True)\n",
    "\n",
    "        xd_df = xd_df[(xd_df.lon> lon_min) & (xd_df.lon < lon_max)]\n",
    "        xd_df = xd_df[(xd_df.lat> lat_min) & (xd_df.lat < lat_max)]\n",
    "\n",
    "        #Extracting only needed columns \n",
    "        df_slice = xd_df[[\"time\", \"lon\", \"lat\", \"SWE_inst\", \"RootMoist_inst\"]]\n",
    "        df_slice = df_slice.drop_duplicates()\n",
    "\n",
    "        gldas_df = pd.concat([gldas_df, df_slice], axis=0)\n",
    "\n",
    "gldas_df = gldas_df.rename(columns={'SWE_inst': 'SWE_inst_kg/m2', 'RootMoist_inst': 'RootMoist_inst_kg/m2'})"
   ]
  },
  {
   "cell_type": "code",
   "execution_count": null,
   "metadata": {},
   "outputs": [],
   "source": [
    "# Compute surface area for pixel with dimension 0.25 x 0.25 degree.\n",
    "EARTH_RADIUS_KM = 6371 \n",
    "gldas_df['surface_area_km2_0.25'] = EARTH_RADIUS_KM * np.radians(.25) * EARTH_RADIUS_KM * np.radians(.25) * np.cos(np.radians(gldas_df['lat']))"
   ]
  },
  {
   "cell_type": "code",
   "execution_count": null,
   "metadata": {},
   "outputs": [],
   "source": [
    "# GLDAS Grid Cell Area\n",
    "areas = calculate_surface_area(gldas_df)\n",
    "\n",
    "# surface_area_da = (xr.DataArray(areas, dims=['lat'],\n",
    "#                                 coords={'lat': gldas_clsm_ds.lat})\n",
    "#                    .expand_dims(lon=len(gldas_clsm_ds.coords['lon']))\n",
    "#                    .assign_coords(lon=gldas_clsm_ds.lon)\n",
    "#                    .transpose('lat', 'lon')\n",
    "# #                    .drop('spatial_ref')\n",
    "#                   )\n",
    "# surface_area_da"
   ]
  },
  {
   "cell_type": "code",
   "execution_count": null,
   "metadata": {},
   "outputs": [],
   "source": []
  }
 ],
 "metadata": {
  "kernelspec": {
   "display_name": "Python 3.11.2 64-bit",
   "language": "python",
   "name": "python3"
  },
  "language_info": {
   "codemirror_mode": {
    "name": "ipython",
    "version": 3
   },
   "file_extension": ".py",
   "mimetype": "text/x-python",
   "name": "python",
   "nbconvert_exporter": "python",
   "pygments_lexer": "ipython3",
   "version": "3.11.2"
  },
  "orig_nbformat": 4,
  "vscode": {
   "interpreter": {
    "hash": "ead1b95f633dc9c51826328e1846203f51a198c6fb5f2884a80417ba131d4e82"
   }
  }
 },
 "nbformat": 4,
 "nbformat_minor": 2
}
