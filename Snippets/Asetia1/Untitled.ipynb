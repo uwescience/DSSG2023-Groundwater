{
 "cells": [
  {
   "cell_type": "code",
   "execution_count": null,
   "id": "9f5140b1",
   "metadata": {},
   "outputs": [],
   "source": []
  },
  {
   "cell_type": "code",
   "execution_count": 8,
   "id": "7dbe867c",
   "metadata": {},
   "outputs": [],
   "source": [
    "import netCDF4 as nc\n",
    "import pandas as pd\n",
    "import os\n",
    "import geopandas as gpd\n",
    "import xarray as xr\n",
    "import re\n",
    "import datetime\n",
    "import matplotlib.pyplot as plt"
   ]
  },
  {
   "cell_type": "code",
   "execution_count": 13,
   "id": "91b900ea",
   "metadata": {},
   "outputs": [
    {
     "ename": "NameError",
     "evalue": "name 's' is not defined",
     "output_type": "error",
     "traceback": [
      "\u001b[0;31m---------------------------------------------------------------------------\u001b[0m",
      "\u001b[0;31mNameError\u001b[0m                                 Traceback (most recent call last)",
      "Cell \u001b[0;32mIn[13], line 22\u001b[0m\n\u001b[1;32m     19\u001b[0m         \u001b[38;5;28mprint\u001b[39m(filename)\n\u001b[1;32m     21\u001b[0m data \u001b[38;5;241m=\u001b[39m {\u001b[38;5;124m'\u001b[39m\u001b[38;5;124mdate\u001b[39m\u001b[38;5;124m'\u001b[39m: [], \u001b[38;5;124m'\u001b[39m\u001b[38;5;124mlwe_thickness\u001b[39m\u001b[38;5;124m'\u001b[39m: []}\n\u001b[0;32m---> 22\u001b[0m u_basin \u001b[38;5;241m=\u001b[39m \u001b[43ms\u001b[49m[\u001b[38;5;124m'\u001b[39m\u001b[38;5;124mgeometry\u001b[39m\u001b[38;5;124m'\u001b[39m][\u001b[38;5;241m7\u001b[39m]  \u001b[38;5;66;03m# Assuming 's' is the variable containing the geometry\u001b[39;00m\n\u001b[1;32m     24\u001b[0m \u001b[38;5;28;01mfor\u001b[39;00m filename \u001b[38;5;129;01min\u001b[39;00m os\u001b[38;5;241m.\u001b[39mlistdir(grace_path):\n\u001b[1;32m     25\u001b[0m     read_data(grace_path, filename, data, u_basin)\n",
      "\u001b[0;31mNameError\u001b[0m: name 's' is not defined"
     ]
    }
   ],
   "source": [
    "\n",
    "def read_data(path, filename, data, u_basin):\n",
    "    try:\n",
    "        if filename.endswith('nc'):\n",
    "            df = xr.open_dataset(path + str(filename))\n",
    "            date = pd.to_datetime(df['time'].values[0])\n",
    "            lon = df['lon'].values[0]\n",
    "            lat = df['lat'].values[0]\n",
    "            if check(lon, lat, u_basin):\n",
    "                lwe_thickness = df['lwe_thickness'].values\n",
    "                if not np.isnan(lwe_thickness).all():\n",
    "                    mean_lwe_thickness = np.mean(lwe_thickness)\n",
    "                    data['date'].append(date)\n",
    "                    data['lwe_thickness'].append(mean_lwe_thickness)\n",
    "        else:\n",
    "            pass\n",
    "    except Exception as e:\n",
    "        print(e)\n",
    "        print(path)\n",
    "        print(filename)\n",
    "\n",
    "data = {'date': [], 'lwe_thickness': []}\n",
    "u_basin = s['geometry'][7]  # Assuming 's' is the variable containing the geometry\n",
    "\n",
    "for filename in os.listdir(grace_path):\n",
    "    read_data(grace_path, filename, data, u_basin)"
   ]
  },
  {
   "cell_type": "code",
   "execution_count": 10,
   "id": "e0246906",
   "metadata": {},
   "outputs": [],
   "source": [
    "df = pd.DataFrame(data)"
   ]
  },
  {
   "cell_type": "code",
   "execution_count": 12,
   "id": "f5b0f795",
   "metadata": {},
   "outputs": [
    {
     "data": {
      "text/html": [
       "<div>\n",
       "<style scoped>\n",
       "    .dataframe tbody tr th:only-of-type {\n",
       "        vertical-align: middle;\n",
       "    }\n",
       "\n",
       "    .dataframe tbody tr th {\n",
       "        vertical-align: top;\n",
       "    }\n",
       "\n",
       "    .dataframe thead th {\n",
       "        text-align: right;\n",
       "    }\n",
       "</style>\n",
       "<table border=\"1\" class=\"dataframe\">\n",
       "  <thead>\n",
       "    <tr style=\"text-align: right;\">\n",
       "      <th></th>\n",
       "      <th>date</th>\n",
       "      <th>lwe_thickness</th>\n",
       "    </tr>\n",
       "  </thead>\n",
       "  <tbody>\n",
       "    <tr>\n",
       "      <th>0</th>\n",
       "      <td>2017-06-10 12:00:00</td>\n",
       "      <td>0.066782</td>\n",
       "    </tr>\n",
       "    <tr>\n",
       "      <th>1</th>\n",
       "      <td>2017-05-13 00:00:00</td>\n",
       "      <td>0.058987</td>\n",
       "    </tr>\n",
       "    <tr>\n",
       "      <th>2</th>\n",
       "      <td>2017-04-24 12:00:00</td>\n",
       "      <td>0.050132</td>\n",
       "    </tr>\n",
       "    <tr>\n",
       "      <th>3</th>\n",
       "      <td>2017-03-31 12:00:00</td>\n",
       "      <td>0.073723</td>\n",
       "    </tr>\n",
       "    <tr>\n",
       "      <th>4</th>\n",
       "      <td>2017-01-21 00:00:00</td>\n",
       "      <td>0.054049</td>\n",
       "    </tr>\n",
       "    <tr>\n",
       "      <th>...</th>\n",
       "      <td>...</td>\n",
       "      <td>...</td>\n",
       "    </tr>\n",
       "    <tr>\n",
       "      <th>158</th>\n",
       "      <td>2002-10-16 12:00:00</td>\n",
       "      <td>-0.060526</td>\n",
       "    </tr>\n",
       "    <tr>\n",
       "      <th>159</th>\n",
       "      <td>2002-09-16 00:00:00</td>\n",
       "      <td>-0.120404</td>\n",
       "    </tr>\n",
       "    <tr>\n",
       "      <th>160</th>\n",
       "      <td>2002-08-16 12:00:00</td>\n",
       "      <td>-0.108040</td>\n",
       "    </tr>\n",
       "    <tr>\n",
       "      <th>161</th>\n",
       "      <td>2002-05-10 12:00:00</td>\n",
       "      <td>0.044236</td>\n",
       "    </tr>\n",
       "    <tr>\n",
       "      <th>162</th>\n",
       "      <td>2002-04-18 00:00:00</td>\n",
       "      <td>0.051939</td>\n",
       "    </tr>\n",
       "  </tbody>\n",
       "</table>\n",
       "<p>163 rows × 2 columns</p>\n",
       "</div>"
      ],
      "text/plain": [
       "                   date  lwe_thickness\n",
       "0   2017-06-10 12:00:00       0.066782\n",
       "1   2017-05-13 00:00:00       0.058987\n",
       "2   2017-04-24 12:00:00       0.050132\n",
       "3   2017-03-31 12:00:00       0.073723\n",
       "4   2017-01-21 00:00:00       0.054049\n",
       "..                  ...            ...\n",
       "158 2002-10-16 12:00:00      -0.060526\n",
       "159 2002-09-16 00:00:00      -0.120404\n",
       "160 2002-08-16 12:00:00      -0.108040\n",
       "161 2002-05-10 12:00:00       0.044236\n",
       "162 2002-04-18 00:00:00       0.051939\n",
       "\n",
       "[163 rows x 2 columns]"
      ]
     },
     "execution_count": 12,
     "metadata": {},
     "output_type": "execute_result"
    }
   ],
   "source": [
    "df\n"
   ]
  },
  {
   "cell_type": "code",
   "execution_count": null,
   "id": "bd0ac7e1",
   "metadata": {},
   "outputs": [],
   "source": []
  }
 ],
 "metadata": {
  "kernelspec": {
   "display_name": "Python 3 (ipykernel)",
   "language": "python",
   "name": "python3"
  },
  "language_info": {
   "codemirror_mode": {
    "name": "ipython",
    "version": 3
   },
   "file_extension": ".py",
   "mimetype": "text/x-python",
   "name": "python",
   "nbconvert_exporter": "python",
   "pygments_lexer": "ipython3",
   "version": "3.11.2"
  }
 },
 "nbformat": 4,
 "nbformat_minor": 5
}
