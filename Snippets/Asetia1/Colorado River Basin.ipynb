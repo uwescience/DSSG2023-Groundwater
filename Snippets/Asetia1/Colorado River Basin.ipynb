{
 "cells": [
  {
   "cell_type": "markdown",
   "id": "a3eed3c9",
   "metadata": {},
   "source": [
    "<h1 align=\"center\"><font color='blue'>Title In Progress </font></h1>\n"
   ]
  },
  {
   "cell_type": "markdown",
   "id": "0dc75a28",
   "metadata": {},
   "source": [
    "<div class=\"alert alert-block alert-info\" style=\"color: black;\">\n",
    "<h2>Goals Achieved in this Notebook:</h2>\n",
    "<ul>\n",
    "    <li>Reading the GRACE Data</li>\n",
    "    <li>Extracting the entire Colorado River Basin as well as only the Colorado River Basin States from the GRACE data</li>\n",
    "    <li>Visualizing land water equivalent for the entire Colorado River Basin as well as for only the Colorado River Basin States across time (2002-2023)</li>\n",
    "</ul>\n",
    "</div>"
   ]
  },
  {
   "cell_type": "markdown",
   "id": "081de93d",
   "metadata": {},
   "source": [
    "<div class=\"alert alert-block alert-info\" style = \"color: black;\">\n",
    "<p>Below are the list of libraries that are needed for this script to run.</p>\n",
    "</div>"
   ]
  },
  {
   "cell_type": "code",
   "execution_count": 3,
   "id": "c917c555",
   "metadata": {},
   "outputs": [
    {
     "name": "stdout",
     "output_type": "stream",
     "text": [
      "Defaulting to user installation because normal site-packages is not writeable\n",
      "Requirement already satisfied: netCDF4 in /home/asetia/.local/lib/python3.11/site-packages (1.6.4)\n",
      "Requirement already satisfied: cftime in /home/asetia/.local/lib/python3.11/site-packages (from netCDF4) (1.6.2)\n",
      "Requirement already satisfied: certifi in /home/asetia/.local/lib/python3.11/site-packages (from netCDF4) (2023.5.7)\n",
      "Requirement already satisfied: numpy in /home/asetia/.local/lib/python3.11/site-packages (from netCDF4) (1.25.0)\n",
      "Defaulting to user installation because normal site-packages is not writeable\n",
      "Requirement already satisfied: pandas in /home/asetia/.local/lib/python3.11/site-packages (2.0.2)\n",
      "Requirement already satisfied: python-dateutil>=2.8.2 in /usr/local/lib/python3.11/site-packages (from pandas) (2.8.2)\n",
      "Requirement already satisfied: pytz>=2020.1 in /home/asetia/.local/lib/python3.11/site-packages (from pandas) (2023.3)\n",
      "Requirement already satisfied: tzdata>=2022.1 in /home/asetia/.local/lib/python3.11/site-packages (from pandas) (2023.3)\n",
      "Requirement already satisfied: numpy>=1.21.0 in /home/asetia/.local/lib/python3.11/site-packages (from pandas) (1.25.0)\n",
      "Requirement already satisfied: six>=1.5 in /usr/local/lib/python3.11/site-packages (from python-dateutil>=2.8.2->pandas) (1.16.0)\n",
      "Defaulting to user installation because normal site-packages is not writeable\n",
      "Requirement already satisfied: numpy in /home/asetia/.local/lib/python3.11/site-packages (1.25.0)\n",
      "Defaulting to user installation because normal site-packages is not writeable\n",
      "Requirement already satisfied: imageio in /home/asetia/.local/lib/python3.11/site-packages (2.31.1)\n",
      "Requirement already satisfied: numpy in /home/asetia/.local/lib/python3.11/site-packages (from imageio) (1.25.0)\n",
      "Requirement already satisfied: pillow>=8.3.2 in /home/asetia/.local/lib/python3.11/site-packages (from imageio) (9.5.0)\n",
      "Defaulting to user installation because normal site-packages is not writeable\n",
      "Requirement already satisfied: geodatasets in /home/asetia/.local/lib/python3.11/site-packages (2023.3.0)\n",
      "Requirement already satisfied: pooch in /home/asetia/.local/lib/python3.11/site-packages (from geodatasets) (1.7.0)\n",
      "Requirement already satisfied: platformdirs>=2.5.0 in /usr/local/lib/python3.11/site-packages (from pooch->geodatasets) (3.7.0)\n",
      "Requirement already satisfied: packaging>=20.0 in /usr/local/lib/python3.11/site-packages (from pooch->geodatasets) (23.1)\n",
      "Requirement already satisfied: requests>=2.19.0 in /home/asetia/.local/lib/python3.11/site-packages (from pooch->geodatasets) (2.31.0)\n",
      "Requirement already satisfied: charset-normalizer<4,>=2 in /home/asetia/.local/lib/python3.11/site-packages (from requests>=2.19.0->pooch->geodatasets) (3.1.0)\n",
      "Requirement already satisfied: idna<4,>=2.5 in /home/asetia/.local/lib/python3.11/site-packages (from requests>=2.19.0->pooch->geodatasets) (3.4)\n",
      "Requirement already satisfied: urllib3<3,>=1.21.1 in /home/asetia/.local/lib/python3.11/site-packages (from requests>=2.19.0->pooch->geodatasets) (2.0.3)\n",
      "Requirement already satisfied: certifi>=2017.4.17 in /home/asetia/.local/lib/python3.11/site-packages (from requests>=2.19.0->pooch->geodatasets) (2023.5.7)\n",
      "Defaulting to user installation because normal site-packages is not writeable\n",
      "Requirement already satisfied: pyshp in /home/asetia/.local/lib/python3.11/site-packages (2.3.1)\n"
     ]
    }
   ],
   "source": [
    "!pip3 install netCDF4\n",
    "!pip3 install pandas\n",
    "!pip3 install numpy\n",
    "!pip3 install imageio\n",
    "!pip3 install geodatasets\n",
    "!pip3 install pyshp\n",
    "import netCDF4 as nc\n",
    "import pandas as pd\n",
    "import os\n",
    "import numpy as np\n",
    "import geopandas as gpd\n",
    "import matplotlib.pyplot as plt\n",
    "import collections\n",
    "import matplotlib.font_manager\n",
    "import xarray as xr\n",
    "import statistics\n",
    "import geodatasets\n",
    "import shapefile\n",
    "from shapely.geometry import shape, Point\n",
    "import imageio\n",
    "\n"
   ]
  },
  {
   "cell_type": "markdown",
   "id": "8e3fa5dc",
   "metadata": {},
   "source": [
    "<div class=\"alert alert-block alert-info\" style=\"color: black;\">\n",
    "<p>Next, we loaded the Grace data. Instructions on how to download the grace data can be found <a href=\"https://neoproterozoic.ess.washington.edu/jhub/user/asetia/notebooks/DSSG2023-Groundwater/Snippets/Asetia1/Instructions%20on%20Downloading%20the%20GRACE%20Data.ipynb\">here</a>.</p>\n",
    "    \n",
    "<p>The GRACE data has longitude values in the range [0,360]. Therefore, in the code below, we have converted it to the range of [-180,180] as the other datasets of interest have latitude and longitude values in that range.</p>\n",
    "<p>We have also multiplied the land water equivalent <code>lwe_thickness</code> with the appropriate scaling factor <code>scale_Factor</code> and stored it in the variable <code>lwe</code>.</p>\n",
    "</div>\n"
   ]
  },
  {
   "cell_type": "code",
   "execution_count": 4,
   "id": "33c2aeee",
   "metadata": {
    "scrolled": true
   },
   "outputs": [
    {
     "name": "stderr",
     "output_type": "stream",
     "text": [
      "/tmp/ipykernel_595741/682003137.py:10: SettingWithCopyWarning: \n",
      "A value is trying to be set on a copy of a slice from a DataFrame.\n",
      "Try using .loc[row_indexer,col_indexer] = value instead\n",
      "\n",
      "See the caveats in the documentation: https://pandas.pydata.org/pandas-docs/stable/user_guide/indexing.html#returning-a-view-versus-a-copy\n",
      "  grace_data[\"lwe\"] = [x*y for x,y in zip(grace_data[\"lwe_thickness\"],grace_data[\"scale_factor\"])] #multiplying scaling factor\n",
      "/tmp/ipykernel_595741/682003137.py:11: SettingWithCopyWarning: \n",
      "A value is trying to be set on a copy of a slice from a DataFrame.\n",
      "Try using .loc[row_indexer,col_indexer] = value instead\n",
      "\n",
      "See the caveats in the documentation: https://pandas.pydata.org/pandas-docs/stable/user_guide/indexing.html#returning-a-view-versus-a-copy\n",
      "  grace_data[\"lon\"] = [k-180 for k in grace_data[\"lon\"]] #converting longitude points\n"
     ]
    }
   ],
   "source": [
    "#Reading Grace Data (mascon)\n",
    "grace_path = '/home/asetia/remoteData/GRACE_MASCON/data/TELLUS_GRAC-GRFO_MASCON_CRI_GRID_RL06.1_V3/'\n",
    "df = xr.open_dataset(grace_path+\"GRCTellus.JPL.200204_202304.GLO.RL06.1M.MSCNv03CRI.nc\")\n",
    "d = df.to_dataframe()\n",
    "d.reset_index(inplace=True)\n",
    "data = d[[\"time\",\"lat\",\"lon\",\"lwe_thickness\",\"scale_factor\"]]\n",
    "data2 = data[data.lwe_thickness.notnull()] \n",
    "grace_data = data2[data2.scale_factor.notnull()] \n",
    "\n",
    "grace_data[\"lwe\"] = [x*y for x,y in zip(grace_data[\"lwe_thickness\"],grace_data[\"scale_factor\"])] #multiplying scaling factor\n",
    "grace_data[\"lon\"] = [k-180 for k in grace_data[\"lon\"]] #converting longitude points\n",
    "\n"
   ]
  },
  {
   "cell_type": "code",
   "execution_count": 7,
   "id": "ff3a2776",
   "metadata": {},
   "outputs": [
    {
     "name": "stderr",
     "output_type": "stream",
     "text": [
      "/tmp/ipykernel_595741/213572473.py:10: SettingWithCopyWarning: \n",
      "A value is trying to be set on a copy of a slice from a DataFrame.\n",
      "Try using .loc[row_indexer,col_indexer] = value instead\n",
      "\n",
      "See the caveats in the documentation: https://pandas.pydata.org/pandas-docs/stable/user_guide/indexing.html#returning-a-view-versus-a-copy\n",
      "  grace_data[\"lwe\"] = grace_data[\"lwe_thickness\"] * grace_data[\"scale_factor\"]  # multiplying scaling factor\n",
      "/tmp/ipykernel_595741/213572473.py:11: SettingWithCopyWarning: \n",
      "A value is trying to be set on a copy of a slice from a DataFrame.\n",
      "Try using .loc[row_indexer,col_indexer] = value instead\n",
      "\n",
      "See the caveats in the documentation: https://pandas.pydata.org/pandas-docs/stable/user_guide/indexing.html#returning-a-view-versus-a-copy\n",
      "  grace_data[\"lon\"] = grace_data[\"lon\"] - 180  # converting longitude points\n"
     ]
    }
   ],
   "source": [
    "# Reading Grace Data (mascon)\n",
    "grace_path = '/home/asetia/remoteData/GRACE_MASCON/data/TELLUS_GRAC-GRFO_MASCON_CRI_GRID_RL06.1_V3/'\n",
    "df = xr.open_dataset(grace_path + \"GRCTellus.JPL.200204_202304.GLO.RL06.1M.MSCNv03CRI.nc\")\n",
    "d = df.to_dataframe()\n",
    "d.reset_index(inplace=True)\n",
    "data = d[[\"time\", \"lat\", \"lon\", \"lwe_thickness\", \"scale_factor\"]]\n",
    "data2 = data.dropna(subset=[\"lwe_thickness\", \"scale_factor\"])  # Drop rows with null values in specified columns\n",
    "grace_data = data2.drop_duplicates()  # Remove duplicate rows\n",
    "\n",
    "grace_data[\"lwe\"] = grace_data[\"lwe_thickness\"] * grace_data[\"scale_factor\"]  # multiplying scaling factor\n",
    "grace_data[\"lon\"] = grace_data[\"lon\"] - 180  # converting longitude points\n"
   ]
  },
  {
   "cell_type": "code",
   "execution_count": 8,
   "id": "a92bb8be",
   "metadata": {},
   "outputs": [
    {
     "data": {
      "text/html": [
       "<div>\n",
       "<style scoped>\n",
       "    .dataframe tbody tr th:only-of-type {\n",
       "        vertical-align: middle;\n",
       "    }\n",
       "\n",
       "    .dataframe tbody tr th {\n",
       "        vertical-align: top;\n",
       "    }\n",
       "\n",
       "    .dataframe thead th {\n",
       "        text-align: right;\n",
       "    }\n",
       "</style>\n",
       "<table border=\"1\" class=\"dataframe\">\n",
       "  <thead>\n",
       "    <tr style=\"text-align: right;\">\n",
       "      <th></th>\n",
       "      <th>time</th>\n",
       "      <th>lat</th>\n",
       "      <th>lon</th>\n",
       "      <th>lwe_thickness</th>\n",
       "      <th>scale_factor</th>\n",
       "      <th>lwe</th>\n",
       "    </tr>\n",
       "  </thead>\n",
       "  <tbody>\n",
       "    <tr>\n",
       "      <th>84040</th>\n",
       "      <td>2002-04-17 12:00:00</td>\n",
       "      <td>5.75</td>\n",
       "      <td>-179.75</td>\n",
       "      <td>-13.136055</td>\n",
       "      <td>0.011175</td>\n",
       "      <td>-0.146790</td>\n",
       "    </tr>\n",
       "    <tr>\n",
       "      <th>84042</th>\n",
       "      <td>2002-05-10 12:00:00</td>\n",
       "      <td>5.75</td>\n",
       "      <td>-179.75</td>\n",
       "      <td>-11.470655</td>\n",
       "      <td>0.011175</td>\n",
       "      <td>-0.128180</td>\n",
       "    </tr>\n",
       "    <tr>\n",
       "      <th>84044</th>\n",
       "      <td>2002-08-16 12:00:00</td>\n",
       "      <td>5.75</td>\n",
       "      <td>-179.75</td>\n",
       "      <td>-3.586978</td>\n",
       "      <td>0.011175</td>\n",
       "      <td>-0.040083</td>\n",
       "    </tr>\n",
       "    <tr>\n",
       "      <th>84046</th>\n",
       "      <td>2002-09-16 00:00:00</td>\n",
       "      <td>5.75</td>\n",
       "      <td>-179.75</td>\n",
       "      <td>-0.564681</td>\n",
       "      <td>0.011175</td>\n",
       "      <td>-0.006310</td>\n",
       "    </tr>\n",
       "    <tr>\n",
       "      <th>84048</th>\n",
       "      <td>2002-10-16 12:00:00</td>\n",
       "      <td>5.75</td>\n",
       "      <td>-179.75</td>\n",
       "      <td>2.739548</td>\n",
       "      <td>0.011175</td>\n",
       "      <td>0.030613</td>\n",
       "    </tr>\n",
       "    <tr>\n",
       "      <th>...</th>\n",
       "      <td>...</td>\n",
       "      <td>...</td>\n",
       "      <td>...</td>\n",
       "      <td>...</td>\n",
       "      <td>...</td>\n",
       "      <td>...</td>\n",
       "    </tr>\n",
       "    <tr>\n",
       "      <th>114016310</th>\n",
       "      <td>2022-12-16 12:00:00</td>\n",
       "      <td>53.75</td>\n",
       "      <td>179.75</td>\n",
       "      <td>-9.774596</td>\n",
       "      <td>0.951602</td>\n",
       "      <td>-9.301526</td>\n",
       "    </tr>\n",
       "    <tr>\n",
       "      <th>114016312</th>\n",
       "      <td>2023-01-16 12:00:00</td>\n",
       "      <td>53.75</td>\n",
       "      <td>179.75</td>\n",
       "      <td>-8.168959</td>\n",
       "      <td>0.951602</td>\n",
       "      <td>-7.773599</td>\n",
       "    </tr>\n",
       "    <tr>\n",
       "      <th>114016314</th>\n",
       "      <td>2023-02-15 00:00:00</td>\n",
       "      <td>53.75</td>\n",
       "      <td>179.75</td>\n",
       "      <td>-10.522227</td>\n",
       "      <td>0.951602</td>\n",
       "      <td>-10.012974</td>\n",
       "    </tr>\n",
       "    <tr>\n",
       "      <th>114016316</th>\n",
       "      <td>2023-03-16 12:00:00</td>\n",
       "      <td>53.75</td>\n",
       "      <td>179.75</td>\n",
       "      <td>-8.131388</td>\n",
       "      <td>0.951602</td>\n",
       "      <td>-7.737846</td>\n",
       "    </tr>\n",
       "    <tr>\n",
       "      <th>114016318</th>\n",
       "      <td>2023-04-16 00:00:00</td>\n",
       "      <td>53.75</td>\n",
       "      <td>179.75</td>\n",
       "      <td>-8.641945</td>\n",
       "      <td>0.951602</td>\n",
       "      <td>-8.223693</td>\n",
       "    </tr>\n",
       "  </tbody>\n",
       "</table>\n",
       "<p>12959760 rows × 6 columns</p>\n",
       "</div>"
      ],
      "text/plain": [
       "                         time    lat     lon  lwe_thickness  scale_factor  \\\n",
       "84040     2002-04-17 12:00:00   5.75 -179.75     -13.136055      0.011175   \n",
       "84042     2002-05-10 12:00:00   5.75 -179.75     -11.470655      0.011175   \n",
       "84044     2002-08-16 12:00:00   5.75 -179.75      -3.586978      0.011175   \n",
       "84046     2002-09-16 00:00:00   5.75 -179.75      -0.564681      0.011175   \n",
       "84048     2002-10-16 12:00:00   5.75 -179.75       2.739548      0.011175   \n",
       "...                       ...    ...     ...            ...           ...   \n",
       "114016310 2022-12-16 12:00:00  53.75  179.75      -9.774596      0.951602   \n",
       "114016312 2023-01-16 12:00:00  53.75  179.75      -8.168959      0.951602   \n",
       "114016314 2023-02-15 00:00:00  53.75  179.75     -10.522227      0.951602   \n",
       "114016316 2023-03-16 12:00:00  53.75  179.75      -8.131388      0.951602   \n",
       "114016318 2023-04-16 00:00:00  53.75  179.75      -8.641945      0.951602   \n",
       "\n",
       "                 lwe  \n",
       "84040      -0.146790  \n",
       "84042      -0.128180  \n",
       "84044      -0.040083  \n",
       "84046      -0.006310  \n",
       "84048       0.030613  \n",
       "...              ...  \n",
       "114016310  -9.301526  \n",
       "114016312  -7.773599  \n",
       "114016314 -10.012974  \n",
       "114016316  -7.737846  \n",
       "114016318  -8.223693  \n",
       "\n",
       "[12959760 rows x 6 columns]"
      ]
     },
     "execution_count": 8,
     "metadata": {},
     "output_type": "execute_result"
    }
   ],
   "source": [
    "grace_data"
   ]
  },
  {
   "cell_type": "code",
   "execution_count": 31,
   "id": "83cb4492",
   "metadata": {
    "scrolled": false
   },
   "outputs": [
    {
     "data": {
      "text/plain": [
       "dict_keys([Timestamp('2002-04-17 12:00:00'), Timestamp('2002-05-10 12:00:00'), Timestamp('2002-08-16 12:00:00'), Timestamp('2002-09-16 00:00:00'), Timestamp('2002-10-16 12:00:00'), Timestamp('2002-11-16 00:00:00'), Timestamp('2002-12-16 12:00:00'), Timestamp('2003-01-16 12:00:00'), Timestamp('2003-02-15 00:00:00'), Timestamp('2003-03-16 12:00:00'), Timestamp('2003-04-16 00:00:00'), Timestamp('2003-05-11 12:00:00'), Timestamp('2003-07-16 12:00:00'), Timestamp('2003-08-16 12:00:00'), Timestamp('2003-09-16 00:00:00'), Timestamp('2003-10-16 00:00:00'), Timestamp('2003-11-16 00:00:00'), Timestamp('2003-12-16 12:00:00'), Timestamp('2004-01-07 12:00:00'), Timestamp('2004-02-17 00:00:00'), Timestamp('2004-03-16 12:00:00'), Timestamp('2004-04-16 00:00:00'), Timestamp('2004-05-16 12:00:00'), Timestamp('2004-06-16 00:00:00'), Timestamp('2004-07-16 12:00:00'), Timestamp('2004-08-16 12:00:00'), Timestamp('2004-09-16 00:00:00'), Timestamp('2004-10-16 12:00:00'), Timestamp('2004-11-16 00:00:00'), Timestamp('2004-12-16 12:00:00'), Timestamp('2005-01-16 12:00:00'), Timestamp('2005-02-15 00:00:00'), Timestamp('2005-03-16 12:00:00'), Timestamp('2005-04-16 00:00:00'), Timestamp('2005-05-16 12:00:00'), Timestamp('2005-06-16 00:00:00'), Timestamp('2005-07-16 12:00:00'), Timestamp('2005-08-16 12:00:00'), Timestamp('2005-09-16 00:00:00'), Timestamp('2005-10-16 12:00:00'), Timestamp('2005-11-16 00:00:00'), Timestamp('2005-12-16 12:00:00'), Timestamp('2006-01-16 12:00:00'), Timestamp('2006-02-15 00:00:00'), Timestamp('2006-03-16 12:00:00'), Timestamp('2006-04-16 00:00:00'), Timestamp('2006-05-16 12:00:00'), Timestamp('2006-06-16 00:00:00'), Timestamp('2006-07-16 12:00:00'), Timestamp('2006-08-16 12:00:00'), Timestamp('2006-09-16 00:00:00'), Timestamp('2006-10-16 12:00:00'), Timestamp('2006-11-16 00:00:00'), Timestamp('2006-12-16 12:00:00'), Timestamp('2007-01-16 12:00:00'), Timestamp('2007-02-15 00:00:00'), Timestamp('2007-03-16 12:00:00'), Timestamp('2007-04-16 00:00:00'), Timestamp('2007-05-16 12:00:00'), Timestamp('2007-06-16 00:00:00'), Timestamp('2007-07-16 12:00:00'), Timestamp('2007-08-16 12:00:00'), Timestamp('2007-09-16 00:00:00'), Timestamp('2007-10-16 12:00:00'), Timestamp('2007-11-16 00:00:00'), Timestamp('2007-12-16 12:00:00'), Timestamp('2008-01-16 12:00:00'), Timestamp('2008-02-15 12:00:00'), Timestamp('2008-03-16 12:00:00'), Timestamp('2008-04-16 00:00:00'), Timestamp('2008-05-16 12:00:00'), Timestamp('2008-06-16 00:00:00'), Timestamp('2008-07-16 12:00:00'), Timestamp('2008-08-16 12:00:00'), Timestamp('2008-09-16 00:00:00'), Timestamp('2008-10-16 12:00:00'), Timestamp('2008-11-16 00:00:00'), Timestamp('2008-12-16 12:00:00'), Timestamp('2009-01-16 12:00:00'), Timestamp('2009-02-15 00:00:00'), Timestamp('2009-03-16 12:00:00'), Timestamp('2009-04-16 00:00:00'), Timestamp('2009-05-16 12:00:00'), Timestamp('2009-06-16 00:00:00'), Timestamp('2009-07-16 12:00:00'), Timestamp('2009-08-16 12:00:00'), Timestamp('2009-09-16 00:00:00'), Timestamp('2009-10-16 12:00:00'), Timestamp('2009-11-16 00:00:00'), Timestamp('2009-12-16 12:00:00'), Timestamp('2010-01-16 12:00:00'), Timestamp('2010-02-15 00:00:00'), Timestamp('2010-03-16 12:00:00'), Timestamp('2010-04-16 00:00:00'), Timestamp('2010-05-16 12:00:00'), Timestamp('2010-06-16 00:00:00'), Timestamp('2010-07-16 12:00:00'), Timestamp('2010-08-16 12:00:00'), Timestamp('2010-09-16 00:00:00'), Timestamp('2010-10-16 12:00:00'), Timestamp('2010-11-16 00:00:00'), Timestamp('2010-12-14 12:00:00'), Timestamp('2011-02-18 12:00:00'), Timestamp('2011-03-16 12:00:00'), Timestamp('2011-04-16 00:00:00'), Timestamp('2011-05-16 12:00:00'), Timestamp('2011-07-18 12:00:00'), Timestamp('2011-08-16 12:00:00'), Timestamp('2011-09-16 00:00:00'), Timestamp('2011-10-16 12:00:00'), Timestamp('2011-11-01 12:00:00'), Timestamp('2012-01-01 00:00:00'), Timestamp('2012-01-16 12:00:00'), Timestamp('2012-02-15 12:00:00'), Timestamp('2012-03-16 12:00:00'), Timestamp('2012-04-04 12:00:00'), Timestamp('2012-06-16 00:00:00'), Timestamp('2012-07-16 12:00:00'), Timestamp('2012-08-16 12:00:00'), Timestamp('2012-09-13 00:00:00'), Timestamp('2012-11-18 12:00:00'), Timestamp('2012-12-16 12:00:00'), Timestamp('2013-01-16 12:00:00'), Timestamp('2013-02-14 00:00:00'), Timestamp('2013-04-21 00:00:00'), Timestamp('2013-05-16 12:00:00'), Timestamp('2013-06-16 00:00:00'), Timestamp('2013-07-16 12:00:00'), Timestamp('2013-10-16 12:00:00'), Timestamp('2013-11-16 00:00:00'), Timestamp('2013-12-16 12:00:00'), Timestamp('2014-01-09 12:00:00'), Timestamp('2014-03-16 12:00:00'), Timestamp('2014-04-16 00:00:00'), Timestamp('2014-05-16 12:00:00'), Timestamp('2014-06-13 00:00:00'), Timestamp('2014-08-16 12:00:00'), Timestamp('2014-09-16 00:00:00'), Timestamp('2014-10-16 12:00:00'), Timestamp('2014-11-17 00:00:00'), Timestamp('2015-01-22 12:00:00'), Timestamp('2015-02-15 00:00:00'), Timestamp('2015-03-16 12:00:00'), Timestamp('2015-04-16 00:00:00'), Timestamp('2015-04-27 00:00:00'), Timestamp('2015-07-15 12:00:00'), Timestamp('2015-08-16 12:00:00'), Timestamp('2015-09-14 12:00:00'), Timestamp('2015-12-23 12:00:00'), Timestamp('2016-01-16 12:00:00'), Timestamp('2016-02-14 00:00:00'), Timestamp('2016-03-16 12:00:00'), Timestamp('2016-05-20 00:00:00'), Timestamp('2016-06-16 00:00:00'), Timestamp('2016-07-15 12:00:00'), Timestamp('2016-08-21 12:00:00'), Timestamp('2016-11-27 12:00:00'), Timestamp('2016-12-24 12:00:00'), Timestamp('2017-01-21 00:00:00'), Timestamp('2017-03-31 12:00:00'), Timestamp('2017-04-24 12:00:00'), Timestamp('2017-05-12 12:00:00'), Timestamp('2017-06-11 00:00:00'), Timestamp('2018-06-16 00:00:00'), Timestamp('2018-07-10 00:00:00'), Timestamp('2018-10-31 12:00:00'), Timestamp('2018-11-16 00:00:00'), Timestamp('2018-12-16 12:00:00'), Timestamp('2019-01-16 12:00:00'), Timestamp('2019-02-14 00:00:00'), Timestamp('2019-03-16 12:00:00'), Timestamp('2019-04-16 00:00:00'), Timestamp('2019-05-16 12:00:00'), Timestamp('2019-06-16 00:00:00'), Timestamp('2019-07-16 12:00:00'), Timestamp('2019-08-16 12:00:00'), Timestamp('2019-09-16 00:00:00'), Timestamp('2019-10-16 12:00:00'), Timestamp('2019-11-16 00:00:00'), Timestamp('2019-12-16 12:00:00'), Timestamp('2020-01-16 12:00:00'), Timestamp('2020-02-15 12:00:00'), Timestamp('2020-03-16 12:00:00'), Timestamp('2020-04-16 00:00:00'), Timestamp('2020-05-16 12:00:00'), Timestamp('2020-06-16 00:00:00'), Timestamp('2020-07-16 12:00:00'), Timestamp('2020-08-16 12:00:00'), Timestamp('2020-09-16 00:00:00'), Timestamp('2020-10-16 12:00:00'), Timestamp('2020-11-16 00:00:00'), Timestamp('2020-12-16 12:00:00'), Timestamp('2021-01-16 12:00:00'), Timestamp('2021-02-15 00:00:00'), Timestamp('2021-03-16 12:00:00'), Timestamp('2021-04-16 00:00:00'), Timestamp('2021-05-16 12:00:00'), Timestamp('2021-06-16 00:00:00'), Timestamp('2021-07-16 12:00:00'), Timestamp('2021-08-16 12:00:00'), Timestamp('2021-09-16 00:00:00'), Timestamp('2021-10-16 12:00:00'), Timestamp('2021-11-16 00:00:00'), Timestamp('2021-12-16 12:00:00'), Timestamp('2022-01-16 12:00:00'), Timestamp('2022-02-15 00:00:00'), Timestamp('2022-03-16 12:00:00'), Timestamp('2022-04-16 00:00:00'), Timestamp('2022-05-16 12:00:00'), Timestamp('2022-06-16 00:00:00'), Timestamp('2022-07-16 12:00:00'), Timestamp('2022-08-16 12:00:00'), Timestamp('2022-09-16 00:00:00'), Timestamp('2022-10-16 12:00:00'), Timestamp('2022-11-16 00:00:00'), Timestamp('2022-12-16 12:00:00'), Timestamp('2023-01-16 12:00:00'), Timestamp('2023-02-15 00:00:00'), Timestamp('2023-03-16 12:00:00'), Timestamp('2023-04-16 00:00:00')])"
      ]
     },
     "execution_count": 31,
     "metadata": {},
     "output_type": "execute_result"
    }
   ],
   "source": [
    "collections.Counter(grace_data[\"time\"]).keys()"
   ]
  },
  {
   "cell_type": "markdown",
   "id": "6284838a",
   "metadata": {},
   "source": [
    "<div class=\"alert alert-block alert-info\" style=\"color: black;\">\n",
    "Next, in the code below, we have downloaded the shape file of <a href=\"https://coloradoriverbasin-lincolninstitute.hub.arcgis.com/datasets/colorado-river-basin-hydrological-boundaries-with-areas-served-by-colorado-river/explore?location=37.047204%2C-110.573590%2C6.40\">Colorado River Basin</a> in the format of an SHP file. The shape file is a geospatial data format used for representing geographic features. The SHP file stores the geometric data of the shapefile, such as points, lines, or polygons, representing the boundaries and other features of the Colorado River Basin.\n",
    "</div>\n",
    "\n"
   ]
  },
  {
   "cell_type": "code",
   "execution_count": 9,
   "id": "ff0302c2",
   "metadata": {},
   "outputs": [],
   "source": [
    "#Loading shapefile of CRB (comprising of 8 total regions, including Upper and Lower basin)\n",
    "crb = gpd.read_file(\"/home/asetia/code/Colorado_River_Basin_Hydrological_Boundaries_with_Areas_served_by_Colorado_River.shp\")\n"
   ]
  },
  {
   "cell_type": "code",
   "execution_count": 10,
   "id": "2561b477",
   "metadata": {
    "scrolled": true
   },
   "outputs": [
    {
     "data": {
      "text/plain": [
       "<Figure size 1000x1000 with 0 Axes>"
      ]
     },
     "metadata": {},
     "output_type": "display_data"
    },
    {
     "data": {
      "image/png": "[encoded data removed]",
      "text/plain": [
       "<Figure size 640x480 with 1 Axes>"
      ]
     },
     "metadata": {},
     "output_type": "display_data"
    },
    {
     "data": {
      "image/png": "[encoded data removed]",
      "text/plain": [
       "<Figure size 640x480 with 1 Axes>"
      ]
     },
     "metadata": {},
     "output_type": "display_data"
    },
    {
     "data": {
      "image/png": "[encoded data removed]",
      "text/plain": [
       "<Figure size 640x480 with 1 Axes>"
      ]
     },
     "metadata": {},
     "output_type": "display_data"
    }
   ],
   "source": [
    "# plot of entire Colorado River Basin\n",
    "plt.figure(figsize=[10,10])\n",
    "crb.plot()\n",
    "plt.title(\"Colorado River Basin\")\n",
    "plt.show()\n",
    "# extracting upper and lower basin from CRB\n",
    "upper_basin = crb['geometry'][7]\n",
    "lower_basin = crb['geometry'][6]\n",
    "#Visualising Upper and Lower Basin\n",
    "gpd.GeoSeries(upper_basin).plot()\n",
    "plt.title(\"Upper Basin CRB\")\n",
    "plt.show()\n",
    "gpd.GeoSeries(lower_basin).plot()\n",
    "plt.title(\"Lower Basin CRB\")\n",
    "plt.show()\n",
    "\n"
   ]
  },
  {
   "cell_type": "markdown",
   "id": "3563448d",
   "metadata": {},
   "source": [
    "<div class=\"alert alert-block alert-info\" style=\"color: black;\">\n",
    "    <p><strong>Code Explanation:</strong></p>\n",
    "    <p>In the code below, we first create a new column called <code>point</code> in our DataFrame <code>grace_data</code>. This column is filled with Point objects that represent the corresponding longitude and latitude values from the <code>'lon'</code> and <code>'lat'</code> columns, respectively. This is achieved by utilizing a list comprehension, which iterates over each pair of values from the <code>'lon'</code> and <code>'lat'</code> columns using the <code>zip()</code> function. The <code>zip()</code> function combines the values from the two columns based on their indices. For each pair of longitude and latitude values, a Point object is created using the <code>Point(x, y)</code> function. The resulting Point objects are then appended to the list comprehension, which populates the <code>'point'</code> column in the DataFrame.</p>\n",
    "    <p>Next, in the for loop below, a new DataFrame called <code>grace_data_2</code> is created by filtering the <code>grace_data</code> DataFrame based on the following condition:</p>\n",
    "    <blockquote>\n",
    "        <p>Check if each point in the <code>'point'</code> column of <code>grace_data</code> is contained within the current region represented by <code>sh</code>. In each iteration, <code>sh</code> takes the value of one geometry from <code>crb[\"geometry\"]</code>, allowing us to perform operations specific to that region.</p>\n",
    "    </blockquote>\n",
    "    <p>This operation filters the rows from the <code>grace_data</code> DataFrame based on whether the corresponding point in the <code>'point'</code> column falls within the current region. The filtering is performed using the <code>contains()</code> method of the region (<code>sh</code>) and the <code>'point'</code> column of <code>grace_data</code>.</p>\n",
    "    <p>Finally, the filtered rows are appended to the <code>crb_data</code> DataFrame using <code>pd.concat()</code>. The iteration count is printed for tracking progress.</p>\n",
    "    \n",
    "</div>\n"
   ]
  },
  {
   "cell_type": "markdown",
   "id": "af1fa3dc",
   "metadata": {},
   "source": [
    "<div class=\"alert alert-block alert-warning\" style=\"color: black;\">\n",
    "\n",
    "<p>Note that the code provided will take some time to run, approximately 30 minutes.</p>\n",
    "    \n",
    "</div>"
   ]
  },
  {
   "cell_type": "code",
   "execution_count": 11,
   "id": "7ce4d2ca",
   "metadata": {
    "scrolled": true
   },
   "outputs": [
    {
     "name": "stderr",
     "output_type": "stream",
     "text": [
      "/tmp/ipykernel_595741/2316154270.py:1: SettingWithCopyWarning: \n",
      "A value is trying to be set on a copy of a slice from a DataFrame.\n",
      "Try using .loc[row_indexer,col_indexer] = value instead\n",
      "\n",
      "See the caveats in the documentation: https://pandas.pydata.org/pandas-docs/stable/user_guide/indexing.html#returning-a-view-versus-a-copy\n",
      "  grace_data[\"point\"] = [Point(x,y) for x,y in zip(grace_data[\"lon\"],grace_data[\"lat\"])] #creating column of Point(lon,lat)\n"
     ]
    },
    {
     "name": "stdout",
     "output_type": "stream",
     "text": [
      "0\n",
      "1\n",
      "2\n",
      "3\n",
      "4\n",
      "5\n",
      "6\n",
      "7\n"
     ]
    }
   ],
   "source": [
    "grace_data[\"point\"] = [Point(x,y) for x,y in zip(grace_data[\"lon\"],grace_data[\"lat\"])] #creating column of Point(lon,lat)\n",
    "\n",
    "#Keeping only rows with longitude and latitude in CRB\n",
    "\n",
    "crb_data = pd.DataFrame()\n",
    "itera = 0\n",
    "\n",
    "\n",
    "for sh in crb[\"geometry\"]: #iterating through each region in the CRB \n",
    "    \n",
    "    grace_data_2 = grace_data[(sh.contains(grace_data[\"point\"]))]\n",
    "    crb_data = pd.concat([crb_data,grace_data_2])\n",
    "    \n",
    "    print(itera)\n",
    "    itera+=1\n",
    "    \n",
    "\n",
    "crb_data =  crb_data.sort_values(by=['time'])\n",
    "crb_data.reset_index(inplace=True)\n",
    "    \n",
    "\n",
    "\n"
   ]
  },
  {
   "cell_type": "markdown",
   "id": "e05da09a",
   "metadata": {},
   "source": [
    "\n",
    "<div class=\"alert alert-block alert-info\" style=\"color: black;\">\n",
    "Now that we have extracted the CRB region dataset from the Grace dataset.\n",
    "\n",
    "In the code below, we plotted the monthly averages of the land water equivalent variable `lwe` over time for the CRB region. In order to plot this, we first averaged the `lwe` across latitudes and longitudes for each time point.\n",
    "\n",
    "</div>\n"
   ]
  },
  {
   "cell_type": "code",
   "execution_count": 12,
   "id": "2c0e8ebf",
   "metadata": {
    "scrolled": true
   },
   "outputs": [
    {
     "data": {
      "image/png": "[encoded data removed]",
      "text/plain": [
       "<Figure size 640x480 with 1 Axes>"
      ]
     },
     "metadata": {},
     "output_type": "display_data"
    }
   ],
   "source": [
    "monthly_averages_crb = crb_data.groupby(['time']).agg({'lwe': 'mean'}).reset_index()\n",
    "monthly_averages_crb\n",
    "\n",
    "plt.plot(monthly_averages_crb['time'], monthly_averages_crb['lwe'])\n",
    "plt.xlabel('Time')\n",
    "plt.ylabel('Land Water Equivalent')\n",
    "plt.title('LWE vs. Date')\n",
    "plt.xticks(rotation=45)  # Rotate x-axis labels for better readability if needed\n",
    "plt.show()\n"
   ]
  },
  {
   "cell_type": "code",
   "execution_count": 62,
   "id": "e4feee84",
   "metadata": {},
   "outputs": [
    {
     "data": {
      "text/html": [
       "<div>\n",
       "<style scoped>\n",
       "    .dataframe tbody tr th:only-of-type {\n",
       "        vertical-align: middle;\n",
       "    }\n",
       "\n",
       "    .dataframe tbody tr th {\n",
       "        vertical-align: top;\n",
       "    }\n",
       "\n",
       "    .dataframe thead th {\n",
       "        text-align: right;\n",
       "    }\n",
       "</style>\n",
       "<table border=\"1\" class=\"dataframe\">\n",
       "  <thead>\n",
       "    <tr style=\"text-align: right;\">\n",
       "      <th></th>\n",
       "      <th>index</th>\n",
       "      <th>time</th>\n",
       "      <th>lat</th>\n",
       "      <th>lon</th>\n",
       "      <th>lwe_thickness</th>\n",
       "      <th>scale_factor</th>\n",
       "      <th>lwe</th>\n",
       "      <th>point</th>\n",
       "    </tr>\n",
       "  </thead>\n",
       "  <tbody>\n",
       "    <tr>\n",
       "      <th>0</th>\n",
       "      <td>23875280</td>\n",
       "      <td>2002-04-17 12:00:00</td>\n",
       "      <td>41.25</td>\n",
       "      <td>-104.75</td>\n",
       "      <td>1.620552</td>\n",
       "      <td>0.953967</td>\n",
       "      <td>1.545953</td>\n",
       "      <td>POINT (-104.75 41.25)</td>\n",
       "    </tr>\n",
       "    <tr>\n",
       "      <th>1</th>\n",
       "      <td>22604120</td>\n",
       "      <td>2002-04-17 12:00:00</td>\n",
       "      <td>36.75</td>\n",
       "      <td>-108.75</td>\n",
       "      <td>1.351319</td>\n",
       "      <td>1.481357</td>\n",
       "      <td>2.001786</td>\n",
       "      <td>POINT (-108.75 36.75)</td>\n",
       "    </tr>\n",
       "    <tr>\n",
       "      <th>2</th>\n",
       "      <td>20861280</td>\n",
       "      <td>2002-04-17 12:00:00</td>\n",
       "      <td>36.25</td>\n",
       "      <td>-114.25</td>\n",
       "      <td>2.922306</td>\n",
       "      <td>0.444426</td>\n",
       "      <td>1.298748</td>\n",
       "      <td>POINT (-114.25 36.25)</td>\n",
       "    </tr>\n",
       "    <tr>\n",
       "      <th>3</th>\n",
       "      <td>22604560</td>\n",
       "      <td>2002-04-17 12:00:00</td>\n",
       "      <td>37.25</td>\n",
       "      <td>-108.75</td>\n",
       "      <td>1.351319</td>\n",
       "      <td>0.865412</td>\n",
       "      <td>1.169449</td>\n",
       "      <td>POINT (-108.75 37.25)</td>\n",
       "    </tr>\n",
       "    <tr>\n",
       "      <th>4</th>\n",
       "      <td>20860840</td>\n",
       "      <td>2002-04-17 12:00:00</td>\n",
       "      <td>35.75</td>\n",
       "      <td>-114.25</td>\n",
       "      <td>2.922306</td>\n",
       "      <td>2.601101</td>\n",
       "      <td>7.601212</td>\n",
       "      <td>POINT (-114.25 35.75)</td>\n",
       "    </tr>\n",
       "    <tr>\n",
       "      <th>...</th>\n",
       "      <td>...</td>\n",
       "      <td>...</td>\n",
       "      <td>...</td>\n",
       "      <td>...</td>\n",
       "      <td>...</td>\n",
       "      <td>...</td>\n",
       "      <td>...</td>\n",
       "      <td>...</td>\n",
       "    </tr>\n",
       "    <tr>\n",
       "      <th>63575</th>\n",
       "      <td>22602798</td>\n",
       "      <td>2023-04-16 00:00:00</td>\n",
       "      <td>34.75</td>\n",
       "      <td>-108.75</td>\n",
       "      <td>-6.318313</td>\n",
       "      <td>0.877976</td>\n",
       "      <td>-5.547330</td>\n",
       "      <td>POINT (-108.75 34.75)</td>\n",
       "    </tr>\n",
       "    <tr>\n",
       "      <th>63576</th>\n",
       "      <td>22285558</td>\n",
       "      <td>2023-04-16 00:00:00</td>\n",
       "      <td>34.25</td>\n",
       "      <td>-109.75</td>\n",
       "      <td>-1.036462</td>\n",
       "      <td>1.472674</td>\n",
       "      <td>-1.526371</td>\n",
       "      <td>POINT (-109.75 34.25)</td>\n",
       "    </tr>\n",
       "    <tr>\n",
       "      <th>63577</th>\n",
       "      <td>21966998</td>\n",
       "      <td>2023-04-16 00:00:00</td>\n",
       "      <td>32.25</td>\n",
       "      <td>-110.75</td>\n",
       "      <td>-1.036462</td>\n",
       "      <td>1.002164</td>\n",
       "      <td>-1.038705</td>\n",
       "      <td>POINT (-110.75 32.25)</td>\n",
       "    </tr>\n",
       "    <tr>\n",
       "      <th>63578</th>\n",
       "      <td>21652838</td>\n",
       "      <td>2023-04-16 00:00:00</td>\n",
       "      <td>35.25</td>\n",
       "      <td>-111.75</td>\n",
       "      <td>-7.675123</td>\n",
       "      <td>0.509027</td>\n",
       "      <td>-3.906849</td>\n",
       "      <td>POINT (-111.75 35.25)</td>\n",
       "    </tr>\n",
       "    <tr>\n",
       "      <th>63579</th>\n",
       "      <td>23558038</td>\n",
       "      <td>2023-04-16 00:00:00</td>\n",
       "      <td>40.25</td>\n",
       "      <td>-105.75</td>\n",
       "      <td>-7.351650</td>\n",
       "      <td>1.921539</td>\n",
       "      <td>-14.126479</td>\n",
       "      <td>POINT (-105.75 40.25)</td>\n",
       "    </tr>\n",
       "  </tbody>\n",
       "</table>\n",
       "<p>63580 rows × 8 columns</p>\n",
       "</div>"
      ],
      "text/plain": [
       "          index                time    lat     lon  lwe_thickness  \\\n",
       "0      23875280 2002-04-17 12:00:00  41.25 -104.75       1.620552   \n",
       "1      22604120 2002-04-17 12:00:00  36.75 -108.75       1.351319   \n",
       "2      20861280 2002-04-17 12:00:00  36.25 -114.25       2.922306   \n",
       "3      22604560 2002-04-17 12:00:00  37.25 -108.75       1.351319   \n",
       "4      20860840 2002-04-17 12:00:00  35.75 -114.25       2.922306   \n",
       "...         ...                 ...    ...     ...            ...   \n",
       "63575  22602798 2023-04-16 00:00:00  34.75 -108.75      -6.318313   \n",
       "63576  22285558 2023-04-16 00:00:00  34.25 -109.75      -1.036462   \n",
       "63577  21966998 2023-04-16 00:00:00  32.25 -110.75      -1.036462   \n",
       "63578  21652838 2023-04-16 00:00:00  35.25 -111.75      -7.675123   \n",
       "63579  23558038 2023-04-16 00:00:00  40.25 -105.75      -7.351650   \n",
       "\n",
       "       scale_factor        lwe                  point  \n",
       "0          0.953967   1.545953  POINT (-104.75 41.25)  \n",
       "1          1.481357   2.001786  POINT (-108.75 36.75)  \n",
       "2          0.444426   1.298748  POINT (-114.25 36.25)  \n",
       "3          0.865412   1.169449  POINT (-108.75 37.25)  \n",
       "4          2.601101   7.601212  POINT (-114.25 35.75)  \n",
       "...             ...        ...                    ...  \n",
       "63575      0.877976  -5.547330  POINT (-108.75 34.75)  \n",
       "63576      1.472674  -1.526371  POINT (-109.75 34.25)  \n",
       "63577      1.002164  -1.038705  POINT (-110.75 32.25)  \n",
       "63578      0.509027  -3.906849  POINT (-111.75 35.25)  \n",
       "63579      1.921539 -14.126479  POINT (-105.75 40.25)  \n",
       "\n",
       "[63580 rows x 8 columns]"
      ]
     },
     "execution_count": 62,
     "metadata": {},
     "output_type": "execute_result"
    }
   ],
   "source": [
    "crb_data "
   ]
  },
  {
   "cell_type": "markdown",
   "id": "f31219ec",
   "metadata": {},
   "source": [
    "<div class=\"alert alert-block alert-info\" style=\"color: black;\">\n",
    "Next, for the CRB data, we created a gif that shows the land water equiavelent of the CRB region over time. \n",
    "\n",
    "First, in this dataset, for each time point, we have multiple values of lon and lat so we used the Counter function from the collections package to count the occurrences of each element in the \"time\" column of the crb_data dataset. We accessed the distinct values found in the \"time\" column of the crb_data dataset, as counted by the Counter function using the keys() function. \n",
    "</div>\n",
    "\n",
    "\n",
    "\n"
   ]
  },
  {
   "cell_type": "code",
   "execution_count": 65,
   "id": "39aed66e",
   "metadata": {
    "scrolled": true
   },
   "outputs": [
    {
     "data": {
      "text/plain": [
       "dict_keys([Timestamp('2002-04-17 12:00:00'), Timestamp('2002-05-10 12:00:00'), Timestamp('2002-08-16 12:00:00'), Timestamp('2002-09-16 00:00:00'), Timestamp('2002-10-16 12:00:00'), Timestamp('2002-11-16 00:00:00'), Timestamp('2002-12-16 12:00:00'), Timestamp('2003-01-16 12:00:00'), Timestamp('2003-02-15 00:00:00'), Timestamp('2003-03-16 12:00:00'), Timestamp('2003-04-16 00:00:00'), Timestamp('2003-05-11 12:00:00'), Timestamp('2003-07-16 12:00:00'), Timestamp('2003-08-16 12:00:00'), Timestamp('2003-09-16 00:00:00'), Timestamp('2003-10-16 00:00:00'), Timestamp('2003-11-16 00:00:00'), Timestamp('2003-12-16 12:00:00'), Timestamp('2004-01-07 12:00:00'), Timestamp('2004-02-17 00:00:00'), Timestamp('2004-03-16 12:00:00'), Timestamp('2004-04-16 00:00:00'), Timestamp('2004-05-16 12:00:00'), Timestamp('2004-06-16 00:00:00'), Timestamp('2004-07-16 12:00:00'), Timestamp('2004-08-16 12:00:00'), Timestamp('2004-09-16 00:00:00'), Timestamp('2004-10-16 12:00:00'), Timestamp('2004-11-16 00:00:00'), Timestamp('2004-12-16 12:00:00'), Timestamp('2005-01-16 12:00:00'), Timestamp('2005-02-15 00:00:00'), Timestamp('2005-03-16 12:00:00'), Timestamp('2005-04-16 00:00:00'), Timestamp('2005-05-16 12:00:00'), Timestamp('2005-06-16 00:00:00'), Timestamp('2005-07-16 12:00:00'), Timestamp('2005-08-16 12:00:00'), Timestamp('2005-09-16 00:00:00'), Timestamp('2005-10-16 12:00:00'), Timestamp('2005-11-16 00:00:00'), Timestamp('2005-12-16 12:00:00'), Timestamp('2006-01-16 12:00:00'), Timestamp('2006-02-15 00:00:00'), Timestamp('2006-03-16 12:00:00'), Timestamp('2006-04-16 00:00:00'), Timestamp('2006-05-16 12:00:00'), Timestamp('2006-06-16 00:00:00'), Timestamp('2006-07-16 12:00:00'), Timestamp('2006-08-16 12:00:00'), Timestamp('2006-09-16 00:00:00'), Timestamp('2006-10-16 12:00:00'), Timestamp('2006-11-16 00:00:00'), Timestamp('2006-12-16 12:00:00'), Timestamp('2007-01-16 12:00:00'), Timestamp('2007-02-15 00:00:00'), Timestamp('2007-03-16 12:00:00'), Timestamp('2007-04-16 00:00:00'), Timestamp('2007-05-16 12:00:00'), Timestamp('2007-06-16 00:00:00'), Timestamp('2007-07-16 12:00:00'), Timestamp('2007-08-16 12:00:00'), Timestamp('2007-09-16 00:00:00'), Timestamp('2007-10-16 12:00:00'), Timestamp('2007-11-16 00:00:00'), Timestamp('2007-12-16 12:00:00'), Timestamp('2008-01-16 12:00:00'), Timestamp('2008-02-15 12:00:00'), Timestamp('2008-03-16 12:00:00'), Timestamp('2008-04-16 00:00:00'), Timestamp('2008-05-16 12:00:00'), Timestamp('2008-06-16 00:00:00'), Timestamp('2008-07-16 12:00:00'), Timestamp('2008-08-16 12:00:00'), Timestamp('2008-09-16 00:00:00'), Timestamp('2008-10-16 12:00:00'), Timestamp('2008-11-16 00:00:00'), Timestamp('2008-12-16 12:00:00'), Timestamp('2009-01-16 12:00:00'), Timestamp('2009-02-15 00:00:00'), Timestamp('2009-03-16 12:00:00'), Timestamp('2009-04-16 00:00:00'), Timestamp('2009-05-16 12:00:00'), Timestamp('2009-06-16 00:00:00'), Timestamp('2009-07-16 12:00:00'), Timestamp('2009-08-16 12:00:00'), Timestamp('2009-09-16 00:00:00'), Timestamp('2009-10-16 12:00:00'), Timestamp('2009-11-16 00:00:00'), Timestamp('2009-12-16 12:00:00'), Timestamp('2010-01-16 12:00:00'), Timestamp('2010-02-15 00:00:00'), Timestamp('2010-03-16 12:00:00'), Timestamp('2010-04-16 00:00:00'), Timestamp('2010-05-16 12:00:00'), Timestamp('2010-06-16 00:00:00'), Timestamp('2010-07-16 12:00:00'), Timestamp('2010-08-16 12:00:00'), Timestamp('2010-09-16 00:00:00'), Timestamp('2010-10-16 12:00:00'), Timestamp('2010-11-16 00:00:00'), Timestamp('2010-12-14 12:00:00'), Timestamp('2011-02-18 12:00:00'), Timestamp('2011-03-16 12:00:00'), Timestamp('2011-04-16 00:00:00'), Timestamp('2011-05-16 12:00:00'), Timestamp('2011-07-18 12:00:00'), Timestamp('2011-08-16 12:00:00'), Timestamp('2011-09-16 00:00:00'), Timestamp('2011-10-16 12:00:00'), Timestamp('2011-11-01 12:00:00'), Timestamp('2012-01-01 00:00:00'), Timestamp('2012-01-16 12:00:00'), Timestamp('2012-02-15 12:00:00'), Timestamp('2012-03-16 12:00:00'), Timestamp('2012-04-04 12:00:00'), Timestamp('2012-06-16 00:00:00'), Timestamp('2012-07-16 12:00:00'), Timestamp('2012-08-16 12:00:00'), Timestamp('2012-09-13 00:00:00'), Timestamp('2012-11-18 12:00:00'), Timestamp('2012-12-16 12:00:00'), Timestamp('2013-01-16 12:00:00'), Timestamp('2013-02-14 00:00:00'), Timestamp('2013-04-21 00:00:00'), Timestamp('2013-05-16 12:00:00'), Timestamp('2013-06-16 00:00:00'), Timestamp('2013-07-16 12:00:00'), Timestamp('2013-10-16 12:00:00'), Timestamp('2013-11-16 00:00:00'), Timestamp('2013-12-16 12:00:00'), Timestamp('2014-01-09 12:00:00'), Timestamp('2014-03-16 12:00:00'), Timestamp('2014-04-16 00:00:00'), Timestamp('2014-05-16 12:00:00'), Timestamp('2014-06-13 00:00:00'), Timestamp('2014-08-16 12:00:00'), Timestamp('2014-09-16 00:00:00'), Timestamp('2014-10-16 12:00:00'), Timestamp('2014-11-17 00:00:00'), Timestamp('2015-01-22 12:00:00'), Timestamp('2015-02-15 00:00:00'), Timestamp('2015-03-16 12:00:00'), Timestamp('2015-04-16 00:00:00'), Timestamp('2015-04-27 00:00:00'), Timestamp('2015-07-15 12:00:00'), Timestamp('2015-08-16 12:00:00'), Timestamp('2015-09-14 12:00:00'), Timestamp('2015-12-23 12:00:00'), Timestamp('2016-01-16 12:00:00'), Timestamp('2016-02-14 00:00:00'), Timestamp('2016-03-16 12:00:00'), Timestamp('2016-05-20 00:00:00'), Timestamp('2016-06-16 00:00:00'), Timestamp('2016-07-15 12:00:00'), Timestamp('2016-08-21 12:00:00'), Timestamp('2016-11-27 12:00:00'), Timestamp('2016-12-24 12:00:00'), Timestamp('2017-01-21 00:00:00'), Timestamp('2017-03-31 12:00:00'), Timestamp('2017-04-24 12:00:00'), Timestamp('2017-05-12 12:00:00'), Timestamp('2017-06-11 00:00:00'), Timestamp('2018-06-16 00:00:00'), Timestamp('2018-07-10 00:00:00'), Timestamp('2018-10-31 12:00:00'), Timestamp('2018-11-16 00:00:00'), Timestamp('2018-12-16 12:00:00'), Timestamp('2019-01-16 12:00:00'), Timestamp('2019-02-14 00:00:00'), Timestamp('2019-03-16 12:00:00'), Timestamp('2019-04-16 00:00:00'), Timestamp('2019-05-16 12:00:00'), Timestamp('2019-06-16 00:00:00'), Timestamp('2019-07-16 12:00:00'), Timestamp('2019-08-16 12:00:00'), Timestamp('2019-09-16 00:00:00'), Timestamp('2019-10-16 12:00:00'), Timestamp('2019-11-16 00:00:00'), Timestamp('2019-12-16 12:00:00'), Timestamp('2020-01-16 12:00:00'), Timestamp('2020-02-15 12:00:00'), Timestamp('2020-03-16 12:00:00'), Timestamp('2020-04-16 00:00:00'), Timestamp('2020-05-16 12:00:00'), Timestamp('2020-06-16 00:00:00'), Timestamp('2020-07-16 12:00:00'), Timestamp('2020-08-16 12:00:00'), Timestamp('2020-09-16 00:00:00'), Timestamp('2020-10-16 12:00:00'), Timestamp('2020-11-16 00:00:00'), Timestamp('2020-12-16 12:00:00'), Timestamp('2021-01-16 12:00:00'), Timestamp('2021-02-15 00:00:00'), Timestamp('2021-03-16 12:00:00'), Timestamp('2021-04-16 00:00:00'), Timestamp('2021-05-16 12:00:00'), Timestamp('2021-06-16 00:00:00'), Timestamp('2021-07-16 12:00:00'), Timestamp('2021-08-16 12:00:00'), Timestamp('2021-09-16 00:00:00'), Timestamp('2021-10-16 12:00:00'), Timestamp('2021-11-16 00:00:00'), Timestamp('2021-12-16 12:00:00'), Timestamp('2022-01-16 12:00:00'), Timestamp('2022-02-15 00:00:00'), Timestamp('2022-03-16 12:00:00'), Timestamp('2022-04-16 00:00:00'), Timestamp('2022-05-16 12:00:00'), Timestamp('2022-06-16 00:00:00'), Timestamp('2022-07-16 12:00:00'), Timestamp('2022-08-16 12:00:00'), Timestamp('2022-09-16 00:00:00'), Timestamp('2022-10-16 12:00:00'), Timestamp('2022-11-16 00:00:00'), Timestamp('2022-12-16 12:00:00'), Timestamp('2023-01-16 12:00:00'), Timestamp('2023-02-15 00:00:00'), Timestamp('2023-03-16 12:00:00'), Timestamp('2023-04-16 00:00:00')])"
      ]
     },
     "execution_count": 65,
     "metadata": {},
     "output_type": "execute_result"
    }
   ],
   "source": [
    "collections.Counter(crb_data[\"time\"])\n",
    "collections.Counter(crb_data[\"time\"]).keys()\n"
   ]
  },
  {
   "cell_type": "code",
   "execution_count": 58,
   "id": "c08bf71a",
   "metadata": {
    "scrolled": true
   },
   "outputs": [
    {
     "name": "stderr",
     "output_type": "stream",
     "text": [
      "/tmp/ipykernel_595741/1173266783.py:41: DeprecationWarning: Starting with ImageIO v3 the behavior of this function will switch to that of iio.v3.imread. To keep the current behavior (and make this warning disappear) use `import imageio.v2 as imageio` or call `imageio.v2.imread` directly.\n",
      "  image = imageio.imread(filename)\n"
     ]
    },
    {
     "name": "stdout",
     "output_type": "stream",
     "text": [
      "GIF saved as: updated_grace_crb.gif\n"
     ]
    }
   ],
   "source": [
    "\n",
    "# Ensure output directory exists\n",
    "output_dir = \"output\"\n",
    "os.makedirs(output_dir, exist_ok=True)\n",
    "\n",
    "filenames = []\n",
    "i = 0\n",
    "\n",
    "for tp in collections.Counter(crb_data[\"time\"]).keys():\n",
    "    fig, ax = plt.subplots(figsize=(12, 6))\n",
    "    crb.plot(color=\"lightgrey\", ax=ax, edgecolor='k')\n",
    "\n",
    "    sub_df = crb_data[crb_data[\"time\"] == tp]\n",
    "\n",
    "    x = sub_df['lon'].values\n",
    "    y = sub_df['lat'].values\n",
    "    z = sub_df['lwe'].values\n",
    "\n",
    "    plt.scatter(x, y, c=z, cmap='spring_r', marker=\"s\", sizes=[75]*len(x))\n",
    "    plt.colorbar(label='LWE')\n",
    "    plt.title(str(tp)[0:10])\n",
    "\n",
    "    # create file name and append it to a list\n",
    "    filename = os.path.join(output_dir, f'{i}.png')\n",
    "    i += 1\n",
    "    filenames.append(filename)\n",
    "\n",
    "    # save frame\n",
    "    plt.savefig(filename)\n",
    "    plt.close()\n",
    "\n",
    "# build gif\n",
    "gif_filename = \"updated_grace_crb.gif\"\n",
    "with imageio.get_writer(gif_filename, mode='I') as writer:\n",
    "    for filename in filenames:\n",
    "        image = imageio.imread(filename)\n",
    "        writer.append_data(image)\n",
    "\n",
    "# Remove files\n",
    "for filename in filenames:\n",
    "    os.remove(filename)\n",
    "\n",
    "print(f\"GIF saved as: {gif_filename}\")\n"
   ]
  },
  {
   "cell_type": "code",
   "execution_count": 59,
   "id": "e60d3e4b",
   "metadata": {},
   "outputs": [
    {
     "data": {
      "text/html": [
       "<img src=\"updated_grace_crb.gif\"/>"
      ],
      "text/plain": [
       "<IPython.core.display.Image object>"
      ]
     },
     "execution_count": 59,
     "metadata": {},
     "output_type": "execute_result"
    }
   ],
   "source": [
    "from IPython.display import Image\n",
    "\n",
    "# Display the GIF\n",
    "Image(url='updated_grace_crb.gif')"
   ]
  },
  {
   "cell_type": "markdown",
   "id": "da5d3b7f",
   "metadata": {},
   "source": [
    "<div class=\"alert alert-block alert-info\" style=\"color: black;\">\n",
    "Next, we focused specifically on Colorado River Basin States. In the code below, we downloaded the shape file of <a href=\"https://coloradoriverbasin-lincolninstitute.hub.arcgis.com/datasets/lincolninstitute::colorado-river-basin-us-states/explore?location=37.912097%2C-113.261774%2C6.00\">Colorado River Basin States</a> in the format of an SHP file. We also plotted the CRB states.\n",
    "</div>\n"
   ]
  },
  {
   "cell_type": "code",
   "execution_count": 60,
   "id": "12f9b11f",
   "metadata": {
    "scrolled": true
   },
   "outputs": [
    {
     "data": {
      "text/plain": [
       "<Figure size 1200x1000 with 0 Axes>"
      ]
     },
     "metadata": {},
     "output_type": "display_data"
    },
    {
     "data": {
      "image/png": "[encoded data removed]",
      "text/plain": [
       "<Figure size 640x480 with 1 Axes>"
      ]
     },
     "metadata": {},
     "output_type": "display_data"
    }
   ],
   "source": [
    "#Loading shapefile of CRB States (comprising of 7 total states: Wyoming, California, Utah, Arizona, Colorado, Nevada, New Mexico)\n",
    "states = gpd.read_file(\"/home/asetia/code/Colorado_River_Basin_US_States.shp\")\n",
    "\n",
    "\n",
    "# plot of entire Colorado River Basin\n",
    "plt.figure(figsize=[12,10])\n",
    "states.plot()\n",
    "plt.title(\"Colorado River Basin States\")\n",
    "plt.show()"
   ]
  },
  {
   "cell_type": "markdown",
   "id": "7ec89c27",
   "metadata": {},
   "source": [
    "\n",
    "\n",
    "<div class=\"alert alert-block alert-info\" style=\"color: black;\">\n",
    "Next, we extracted only the CRB states from the GRACE region. The below code is similar to the one explained above to extract the enitre CRB region.\n",
    "</div>\n"
   ]
  },
  {
   "cell_type": "code",
   "execution_count": 61,
   "id": "19550ff9",
   "metadata": {
    "scrolled": false
   },
   "outputs": [
    {
     "name": "stdout",
     "output_type": "stream",
     "text": [
      "0\n",
      "1\n",
      "2\n",
      "3\n",
      "4\n",
      "5\n",
      "6\n"
     ]
    },
    {
     "data": {
      "text/html": [
       "<div>\n",
       "<style scoped>\n",
       "    .dataframe tbody tr th:only-of-type {\n",
       "        vertical-align: middle;\n",
       "    }\n",
       "\n",
       "    .dataframe tbody tr th {\n",
       "        vertical-align: top;\n",
       "    }\n",
       "\n",
       "    .dataframe thead th {\n",
       "        text-align: right;\n",
       "    }\n",
       "</style>\n",
       "<table border=\"1\" class=\"dataframe\">\n",
       "  <thead>\n",
       "    <tr style=\"text-align: right;\">\n",
       "      <th></th>\n",
       "      <th>index</th>\n",
       "      <th>time</th>\n",
       "      <th>lat</th>\n",
       "      <th>lon</th>\n",
       "      <th>lwe_thickness</th>\n",
       "      <th>scale_factor</th>\n",
       "      <th>lwe</th>\n",
       "      <th>point</th>\n",
       "    </tr>\n",
       "  </thead>\n",
       "  <tbody>\n",
       "    <tr>\n",
       "      <th>0</th>\n",
       "      <td>22599720</td>\n",
       "      <td>2002-04-17 12:00:00</td>\n",
       "      <td>31.75</td>\n",
       "      <td>-108.75</td>\n",
       "      <td>-0.754939</td>\n",
       "      <td>0.329908</td>\n",
       "      <td>-0.249060</td>\n",
       "      <td>POINT (-108.75 31.75)</td>\n",
       "    </tr>\n",
       "    <tr>\n",
       "      <th>1</th>\n",
       "      <td>18327760</td>\n",
       "      <td>2002-04-17 12:00:00</td>\n",
       "      <td>37.25</td>\n",
       "      <td>-122.25</td>\n",
       "      <td>1.786008</td>\n",
       "      <td>1.892921</td>\n",
       "      <td>3.380772</td>\n",
       "      <td>POINT (-122.25 37.25)</td>\n",
       "    </tr>\n",
       "    <tr>\n",
       "      <th>2</th>\n",
       "      <td>20546240</td>\n",
       "      <td>2002-04-17 12:00:00</td>\n",
       "      <td>38.25</td>\n",
       "      <td>-115.25</td>\n",
       "      <td>-1.433696</td>\n",
       "      <td>1.205657</td>\n",
       "      <td>-1.728545</td>\n",
       "      <td>POINT (-115.25 38.25)</td>\n",
       "    </tr>\n",
       "    <tr>\n",
       "      <th>3</th>\n",
       "      <td>18173320</td>\n",
       "      <td>2002-04-17 12:00:00</td>\n",
       "      <td>41.75</td>\n",
       "      <td>-122.75</td>\n",
       "      <td>1.323063</td>\n",
       "      <td>1.167518</td>\n",
       "      <td>1.544700</td>\n",
       "      <td>POINT (-122.75 41.75)</td>\n",
       "    </tr>\n",
       "    <tr>\n",
       "      <th>4</th>\n",
       "      <td>20546680</td>\n",
       "      <td>2002-04-17 12:00:00</td>\n",
       "      <td>38.75</td>\n",
       "      <td>-115.25</td>\n",
       "      <td>-1.433696</td>\n",
       "      <td>1.205657</td>\n",
       "      <td>-1.728545</td>\n",
       "      <td>POINT (-115.25 38.75)</td>\n",
       "    </tr>\n",
       "    <tr>\n",
       "      <th>...</th>\n",
       "      <td>...</td>\n",
       "      <td>...</td>\n",
       "      <td>...</td>\n",
       "      <td>...</td>\n",
       "      <td>...</td>\n",
       "      <td>...</td>\n",
       "      <td>...</td>\n",
       "      <td>...</td>\n",
       "    </tr>\n",
       "    <tr>\n",
       "      <th>186335</th>\n",
       "      <td>22286438</td>\n",
       "      <td>2023-04-16 00:00:00</td>\n",
       "      <td>35.25</td>\n",
       "      <td>-109.75</td>\n",
       "      <td>-7.675123</td>\n",
       "      <td>3.387633</td>\n",
       "      <td>-26.000497</td>\n",
       "      <td>POINT (-109.75 35.25)</td>\n",
       "    </tr>\n",
       "    <tr>\n",
       "      <th>186336</th>\n",
       "      <td>23875278</td>\n",
       "      <td>2023-04-16 00:00:00</td>\n",
       "      <td>40.75</td>\n",
       "      <td>-104.75</td>\n",
       "      <td>-3.913027</td>\n",
       "      <td>0.493055</td>\n",
       "      <td>-1.929337</td>\n",
       "      <td>POINT (-104.75 40.75)</td>\n",
       "    </tr>\n",
       "    <tr>\n",
       "      <th>186337</th>\n",
       "      <td>21494878</td>\n",
       "      <td>2023-04-16 00:00:00</td>\n",
       "      <td>35.75</td>\n",
       "      <td>-112.25</td>\n",
       "      <td>-7.675123</td>\n",
       "      <td>0.523137</td>\n",
       "      <td>-4.015143</td>\n",
       "      <td>POINT (-112.25 35.75)</td>\n",
       "    </tr>\n",
       "    <tr>\n",
       "      <th>186338</th>\n",
       "      <td>20860838</td>\n",
       "      <td>2023-04-16 00:00:00</td>\n",
       "      <td>35.25</td>\n",
       "      <td>-114.25</td>\n",
       "      <td>-6.083721</td>\n",
       "      <td>2.601101</td>\n",
       "      <td>-15.824369</td>\n",
       "      <td>POINT (-114.25 35.25)</td>\n",
       "    </tr>\n",
       "    <tr>\n",
       "      <th>186339</th>\n",
       "      <td>22446158</td>\n",
       "      <td>2023-04-16 00:00:00</td>\n",
       "      <td>36.75</td>\n",
       "      <td>-109.25</td>\n",
       "      <td>-6.318313</td>\n",
       "      <td>1.057843</td>\n",
       "      <td>-6.683784</td>\n",
       "      <td>POINT (-109.25 36.75)</td>\n",
       "    </tr>\n",
       "  </tbody>\n",
       "</table>\n",
       "<p>186340 rows × 8 columns</p>\n",
       "</div>"
      ],
      "text/plain": [
       "           index                time    lat     lon  lwe_thickness  \\\n",
       "0       22599720 2002-04-17 12:00:00  31.75 -108.75      -0.754939   \n",
       "1       18327760 2002-04-17 12:00:00  37.25 -122.25       1.786008   \n",
       "2       20546240 2002-04-17 12:00:00  38.25 -115.25      -1.433696   \n",
       "3       18173320 2002-04-17 12:00:00  41.75 -122.75       1.323063   \n",
       "4       20546680 2002-04-17 12:00:00  38.75 -115.25      -1.433696   \n",
       "...          ...                 ...    ...     ...            ...   \n",
       "186335  22286438 2023-04-16 00:00:00  35.25 -109.75      -7.675123   \n",
       "186336  23875278 2023-04-16 00:00:00  40.75 -104.75      -3.913027   \n",
       "186337  21494878 2023-04-16 00:00:00  35.75 -112.25      -7.675123   \n",
       "186338  20860838 2023-04-16 00:00:00  35.25 -114.25      -6.083721   \n",
       "186339  22446158 2023-04-16 00:00:00  36.75 -109.25      -6.318313   \n",
       "\n",
       "        scale_factor        lwe                  point  \n",
       "0           0.329908  -0.249060  POINT (-108.75 31.75)  \n",
       "1           1.892921   3.380772  POINT (-122.25 37.25)  \n",
       "2           1.205657  -1.728545  POINT (-115.25 38.25)  \n",
       "3           1.167518   1.544700  POINT (-122.75 41.75)  \n",
       "4           1.205657  -1.728545  POINT (-115.25 38.75)  \n",
       "...              ...        ...                    ...  \n",
       "186335      3.387633 -26.000497  POINT (-109.75 35.25)  \n",
       "186336      0.493055  -1.929337  POINT (-104.75 40.75)  \n",
       "186337      0.523137  -4.015143  POINT (-112.25 35.75)  \n",
       "186338      2.601101 -15.824369  POINT (-114.25 35.25)  \n",
       "186339      1.057843  -6.683784  POINT (-109.25 36.75)  \n",
       "\n",
       "[186340 rows x 8 columns]"
      ]
     },
     "execution_count": 61,
     "metadata": {},
     "output_type": "execute_result"
    }
   ],
   "source": [
    "\n",
    "#Keeping only rows with longitude and latitude in CRB\n",
    "\n",
    "crb_states_df = pd.DataFrame()\n",
    "itera = 0\n",
    "\n",
    "\n",
    "for sh in states[\"geometry\"]: #iterating through each region in the CRB \n",
    "    \n",
    "    grace_data_2 = grace_data[(sh.contains(grace_data[\"point\"]))]\n",
    "    crb_states_df = pd.concat([crb_states_df,grace_data_2])\n",
    "    \n",
    "    print(itera)\n",
    "    itera+=1\n",
    "    \n",
    "\n",
    "crb_states_df = crb_states_df.sort_values(by=['time'])\n",
    "crb_states_df.reset_index(inplace=True)\n",
    "crb_states_df\n"
   ]
  },
  {
   "cell_type": "code",
   "execution_count": 68,
   "id": "2cd2b170",
   "metadata": {},
   "outputs": [
    {
     "name": "stderr",
     "output_type": "stream",
     "text": [
      "/tmp/ipykernel_595741/1616121988.py:35: DeprecationWarning: Starting with ImageIO v3 the behavior of this function will switch to that of iio.v3.imread. To keep the current behavior (and make this warning disappear) use `import imageio.v2 as imageio` or call `imageio.v2.imread` directly.\n",
      "  image = imageio.imread(filename)\n"
     ]
    }
   ],
   "source": [
    "filenames = []\n",
    "i = 0\n",
    "\n",
    "for tp in collections.Counter(crb_states_df[\"time\"]).keys():\n",
    "    \n",
    "    fig, ax = plt.subplots(figsize=(12, 6))\n",
    "    states.plot(color=\"lightgrey\", ax=ax, edgecolor='k')\n",
    "    \n",
    "    sub_df = crb_states_df[crb_states_df[\"time\"] == tp]\n",
    "\n",
    "    x = sub_df['lon']\n",
    "    y = sub_df['lat']\n",
    "    z = sub_df['lwe']\n",
    "    plt.scatter(x, y, c=z,\n",
    "                cmap='spring_r',marker=\"s\", sizes=[75]*len(x))\n",
    "    plt.colorbar(label='LWE')\n",
    "    plt.clim(-91,82)\n",
    "    plt.title(str(tp)[0:10])\n",
    "    \n",
    "    # plot the line chart\n",
    "    #plt.plot(y[:i])\n",
    "    #plt.ylim(20,50)\n",
    "    \n",
    "    # create file name and append it to a list\n",
    "    filename = f'{i}.png'\n",
    "    i+=1\n",
    "    filenames.append(filename)\n",
    "    \n",
    "    # save frame\n",
    "    plt.savefig(filename)\n",
    "    plt.close()\n",
    "# build gif\n",
    "with imageio.get_writer('updated_grace_crb_states.gif', mode='I') as writer:\n",
    "    for filename in filenames:\n",
    "        image = imageio.imread(filename)\n",
    "        writer.append_data(image)\n",
    "        \n",
    "# Remove files\n",
    "for filename in set(filenames):\n",
    "    os.remove(filename)"
   ]
  },
  {
   "cell_type": "code",
   "execution_count": 69,
   "id": "17a8d9c6",
   "metadata": {},
   "outputs": [
    {
     "data": {
      "text/html": [
       "<img src=\"updated_grace_crb_states.gif\"/>"
      ],
      "text/plain": [
       "<IPython.core.display.Image object>"
      ]
     },
     "execution_count": 69,
     "metadata": {},
     "output_type": "execute_result"
    }
   ],
   "source": [
    "from IPython.display import Image\n",
    "\n",
    "# Display the GIF\n",
    "Image(url='updated_grace_crb_states.gif')"
   ]
  }
 ],
 "metadata": {
  "kernelspec": {
   "display_name": "Python 3 (ipykernel)",
   "language": "python",
   "name": "python3"
  },
  "language_info": {
   "codemirror_mode": {
    "name": "ipython",
    "version": 3
   },
   "file_extension": ".py",
   "mimetype": "text/x-python",
   "name": "python",
   "nbconvert_exporter": "python",
   "pygments_lexer": "ipython3",
   "version": "3.11.2"
  }
 },
 "nbformat": 4,
 "nbformat_minor": 5
}
