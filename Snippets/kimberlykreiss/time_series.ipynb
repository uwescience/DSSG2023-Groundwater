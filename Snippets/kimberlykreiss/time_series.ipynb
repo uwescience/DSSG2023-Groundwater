{
 "cells": [
  {
   "cell_type": "code",
   "execution_count": 1,
   "metadata": {},
   "outputs": [],
   "source": [
    "import os\n",
    "\n",
    "import pandas as pd \n",
    "import xarray as xr\n",
    "import numpy as np\n",
    "import matplotlib.pyplot as plt\n",
    "\n",
    "os.environ['HDF5_USE_FILE_LOCKING']='FALSE'"
   ]
  },
  {
   "cell_type": "code",
   "execution_count": 2,
   "metadata": {},
   "outputs": [
    {
     "name": "stderr",
     "output_type": "stream",
     "text": [
      "/home/kmk58/.local/lib/python3.11/site-packages/xarray/backends/plugins.py:80: RuntimeWarning: Engine 'cfgrib' loading failed:\n",
      "Cannot find the ecCodes library\n",
      "  warnings.warn(f\"Engine {name!r} loading failed:\\n{ex}\", RuntimeWarning)\n"
     ]
    }
   ],
   "source": [
    "GRACE_path = \"/home/kmk58/GRACE/\"\n",
    "GRACE_folders = os.listdir(\"/home/kmk58/GRACE/\")\n",
    "#print(GRACE_folders)\n",
    "\n",
    "GRACE_paths_all = [GRACE_path + f for f in GRACE_folders]\n",
    "#print(GRACE_paths_all)\n",
    "file_GRACE=[]\n",
    "for folder in GRACE_paths_all:\n",
    "    for filename in os.listdir(folder):\n",
    "        if filename.endswith(\".nc\"):\n",
    "            file_GRACE.append(folder+'/'+str(filename))\n",
    "           # print(file_GRACE)\n",
    "        \n",
    "            # df1_subset = df1.sel(lat=slice(30,40), lon=slice(270,280))\n",
    "            # mean_lwe = df1_subset['lwe_thickness'].values.mean()*100 #IN CENTIMETERS\n",
    "            # date = df1_subset['time'].values[0]\n",
    "            # print(dict_grace)\n",
    "list_grace=[]\n",
    "data=pd.DataFrame()\n",
    "\n",
    "for filename in file_GRACE:\n",
    "    df1 = xr.open_dataset(filename)\n",
    "    df1_subset = df1.sel(lat=slice(30,40), lon=slice(270,280))\n",
    "    mean_lwe = df1_subset['lwe_thickness'].values.mean()*100 #IN CENTIMETERS\n",
    "    date = pd.to_datetime(df1_subset['time'].values[0])\n",
    "    if \"CSR\" in filename: \n",
    "        center=\"CSR\"\n",
    "    elif \"JPL\" in filename: \n",
    "        center=\"JPL\"\n",
    "    else: \n",
    "        center=\"GFZ\"\n",
    "    list_df = [date,center,mean_lwe]\n",
    "    list_grace.append(list_df)\n",
    "    \n",
    "df_grace = pd.DataFrame(list_grace, columns=['Date', \"Center\", \"Mean\"]).sort_values('Date')\n",
    "\n",
    "\n",
    "\n",
    "\n",
    "\n",
    "\n",
    "\n",
    "\n"
   ]
  },
  {
   "cell_type": "code",
   "execution_count": 13,
   "metadata": {},
   "outputs": [
    {
     "data": {
      "text/html": [
       "<div>\n",
       "<style scoped>\n",
       "    .dataframe tbody tr th:only-of-type {\n",
       "        vertical-align: middle;\n",
       "    }\n",
       "\n",
       "    .dataframe tbody tr th {\n",
       "        vertical-align: top;\n",
       "    }\n",
       "\n",
       "    .dataframe thead th {\n",
       "        text-align: right;\n",
       "    }\n",
       "</style>\n",
       "<table border=\"1\" class=\"dataframe\">\n",
       "  <thead>\n",
       "    <tr style=\"text-align: right;\">\n",
       "      <th></th>\n",
       "      <th>Center</th>\n",
       "      <th>Mean</th>\n",
       "    </tr>\n",
       "    <tr>\n",
       "      <th>Date</th>\n",
       "      <th></th>\n",
       "      <th></th>\n",
       "    </tr>\n",
       "  </thead>\n",
       "  <tbody>\n",
       "    <tr>\n",
       "      <th>2002-04-17 12:00:00</th>\n",
       "      <td>JPL</td>\n",
       "      <td>7.108114</td>\n",
       "    </tr>\n",
       "    <tr>\n",
       "      <th>2002-04-18 00:00:00</th>\n",
       "      <td>CSR</td>\n",
       "      <td>5.373702</td>\n",
       "    </tr>\n",
       "    <tr>\n",
       "      <th>2002-04-18 00:00:00</th>\n",
       "      <td>GFZ</td>\n",
       "      <td>8.166167</td>\n",
       "    </tr>\n",
       "    <tr>\n",
       "      <th>2002-05-10 00:00:00</th>\n",
       "      <td>GFZ</td>\n",
       "      <td>6.155036</td>\n",
       "    </tr>\n",
       "    <tr>\n",
       "      <th>2002-05-10 12:00:00</th>\n",
       "      <td>CSR</td>\n",
       "      <td>4.830979</td>\n",
       "    </tr>\n",
       "    <tr>\n",
       "      <th>...</th>\n",
       "      <td>...</td>\n",
       "      <td>...</td>\n",
       "    </tr>\n",
       "    <tr>\n",
       "      <th>2023-02-15 00:00:00</th>\n",
       "      <td>JPL</td>\n",
       "      <td>6.973749</td>\n",
       "    </tr>\n",
       "    <tr>\n",
       "      <th>2023-02-15 00:00:00</th>\n",
       "      <td>CSR</td>\n",
       "      <td>7.859848</td>\n",
       "    </tr>\n",
       "    <tr>\n",
       "      <th>2023-03-16 12:00:00</th>\n",
       "      <td>CSR</td>\n",
       "      <td>8.247184</td>\n",
       "    </tr>\n",
       "    <tr>\n",
       "      <th>2023-03-16 12:00:00</th>\n",
       "      <td>GFZ</td>\n",
       "      <td>6.862065</td>\n",
       "    </tr>\n",
       "    <tr>\n",
       "      <th>2023-03-16 12:00:00</th>\n",
       "      <td>JPL</td>\n",
       "      <td>8.712649</td>\n",
       "    </tr>\n",
       "  </tbody>\n",
       "</table>\n",
       "<p>657 rows × 2 columns</p>\n",
       "</div>"
      ],
      "text/plain": [
       "                    Center      Mean\n",
       "Date                                \n",
       "2002-04-17 12:00:00    JPL  7.108114\n",
       "2002-04-18 00:00:00    CSR  5.373702\n",
       "2002-04-18 00:00:00    GFZ  8.166167\n",
       "2002-05-10 00:00:00    GFZ  6.155036\n",
       "2002-05-10 12:00:00    CSR  4.830979\n",
       "...                    ...       ...\n",
       "2023-02-15 00:00:00    JPL  6.973749\n",
       "2023-02-15 00:00:00    CSR  7.859848\n",
       "2023-03-16 12:00:00    CSR  8.247184\n",
       "2023-03-16 12:00:00    GFZ  6.862065\n",
       "2023-03-16 12:00:00    JPL  8.712649\n",
       "\n",
       "[657 rows x 2 columns]"
      ]
     },
     "execution_count": 13,
     "metadata": {},
     "output_type": "execute_result"
    }
   ],
   "source": [
    "df_grace"
   ]
  },
  {
   "cell_type": "code",
   "execution_count": 16,
   "metadata": {},
   "outputs": [
    {
     "ename": "KeyError",
     "evalue": "\"None of ['Date'] are in the columns\"",
     "output_type": "error",
     "traceback": [
      "\u001b[0;31m---------------------------------------------------------------------------\u001b[0m",
      "\u001b[0;31mKeyError\u001b[0m                                  Traceback (most recent call last)",
      "\u001b[0;32m/tmp/ipykernel_746341/1054537902.py\u001b[0m in \u001b[0;36m?\u001b[0;34m()\u001b[0m\n\u001b[0;32m----> 1\u001b[0;31m \u001b[0mdf_grace\u001b[0m\u001b[0;34m.\u001b[0m\u001b[0mset_index\u001b[0m\u001b[0;34m(\u001b[0m\u001b[0;34m'Date'\u001b[0m\u001b[0;34m,\u001b[0m \u001b[0minplace\u001b[0m\u001b[0;34m=\u001b[0m\u001b[0;32mTrue\u001b[0m\u001b[0;34m)\u001b[0m\u001b[0;34m\u001b[0m\u001b[0;34m\u001b[0m\u001b[0m\n\u001b[0m\u001b[1;32m      2\u001b[0m \u001b[0mdf_grace\u001b[0m\u001b[0;34m.\u001b[0m\u001b[0mgroupby\u001b[0m\u001b[0;34m(\u001b[0m\u001b[0;34m'Center'\u001b[0m\u001b[0;34m)\u001b[0m\u001b[0;34m[\u001b[0m\u001b[0;34m'Mean'\u001b[0m\u001b[0;34m]\u001b[0m\u001b[0;34m.\u001b[0m\u001b[0mplot\u001b[0m\u001b[0;34m(\u001b[0m\u001b[0mlegend\u001b[0m\u001b[0;34m=\u001b[0m\u001b[0;32mTrue\u001b[0m\u001b[0;34m,\u001b[0m \u001b[0mylabel\u001b[0m\u001b[0;34m=\u001b[0m\u001b[0;34m\"cm\"\u001b[0m\u001b[0;34m)\u001b[0m\u001b[0;34m.\u001b[0m\u001b[0maxhline\u001b[0m\u001b[0;34m(\u001b[0m\u001b[0my\u001b[0m\u001b[0;34m=\u001b[0m\u001b[0;36m0\u001b[0m\u001b[0;34m,\u001b[0m \u001b[0mcolor\u001b[0m\u001b[0;34m=\u001b[0m\u001b[0;34m'r'\u001b[0m\u001b[0;34m,\u001b[0m \u001b[0mlinestyle\u001b[0m\u001b[0;34m=\u001b[0m\u001b[0;34m'--'\u001b[0m\u001b[0;34m)\u001b[0m\u001b[0;34m\u001b[0m\u001b[0;34m\u001b[0m\u001b[0m\n\u001b[1;32m      3\u001b[0m \u001b[0;34m\u001b[0m\u001b[0m\n\u001b[1;32m      4\u001b[0m \u001b[0;34m\u001b[0m\u001b[0m\n",
      "\u001b[0;32m~/.local/lib/python3.11/site-packages/pandas/core/frame.py\u001b[0m in \u001b[0;36m?\u001b[0;34m(self, keys, drop, append, inplace, verify_integrity)\u001b[0m\n\u001b[1;32m   5855\u001b[0m                     \u001b[0;32mif\u001b[0m \u001b[0;32mnot\u001b[0m \u001b[0mfound\u001b[0m\u001b[0;34m:\u001b[0m\u001b[0;34m\u001b[0m\u001b[0;34m\u001b[0m\u001b[0m\n\u001b[1;32m   5856\u001b[0m                         \u001b[0mmissing\u001b[0m\u001b[0;34m.\u001b[0m\u001b[0mappend\u001b[0m\u001b[0;34m(\u001b[0m\u001b[0mcol\u001b[0m\u001b[0;34m)\u001b[0m\u001b[0;34m\u001b[0m\u001b[0;34m\u001b[0m\u001b[0m\n\u001b[1;32m   5857\u001b[0m \u001b[0;34m\u001b[0m\u001b[0m\n\u001b[1;32m   5858\u001b[0m         \u001b[0;32mif\u001b[0m \u001b[0mmissing\u001b[0m\u001b[0;34m:\u001b[0m\u001b[0;34m\u001b[0m\u001b[0;34m\u001b[0m\u001b[0m\n\u001b[0;32m-> 5859\u001b[0;31m             \u001b[0;32mraise\u001b[0m \u001b[0mKeyError\u001b[0m\u001b[0;34m(\u001b[0m\u001b[0;34mf\"None of {missing} are in the columns\"\u001b[0m\u001b[0;34m)\u001b[0m\u001b[0;34m\u001b[0m\u001b[0;34m\u001b[0m\u001b[0m\n\u001b[0m\u001b[1;32m   5860\u001b[0m \u001b[0;34m\u001b[0m\u001b[0m\n\u001b[1;32m   5861\u001b[0m         \u001b[0;32mif\u001b[0m \u001b[0minplace\u001b[0m\u001b[0;34m:\u001b[0m\u001b[0;34m\u001b[0m\u001b[0;34m\u001b[0m\u001b[0m\n\u001b[1;32m   5862\u001b[0m             \u001b[0mframe\u001b[0m \u001b[0;34m=\u001b[0m \u001b[0mself\u001b[0m\u001b[0;34m\u001b[0m\u001b[0;34m\u001b[0m\u001b[0m\n",
      "\u001b[0;31mKeyError\u001b[0m: \"None of ['Date'] are in the columns\""
     ]
    }
   ],
   "source": [
    "df_grace.set_index('Date', inplace=True)\n",
    "df_grace.groupby('Center')['Mean'].plot(legend=True, ylabel=\"cm\")\n",
    "\n",
    "\n",
    "#plt.plot(df_grace['Date'], df_grace['Mean'])\n",
    "#plt.xticks(x, [str(i) for i in y], rotation=90)\n",
    "#plt.tick_params(axis='x', which='major', labelsize=3)\n",
    "#plt.locator_params(axis='x', nbins=10) \n",
    "#plt.title(\"Terrestial Water Storage Deviations in Mississipi Region\")\n",
    "#plt.axhline(y=0, color='r', linestyle='--')\n",
    "#plt.ylabel(\"Land Water Equivalent (m)\")\n",
    "#plt.show()\n",
    "#df = pd.DataFrame.from_dict(dict_grace, orient='index')\n",
    "#df"
   ]
  },
  {
   "cell_type": "code",
   "execution_count": null,
   "metadata": {},
   "outputs": [],
   "source": []
  }
 ],
 "metadata": {
  "kernelspec": {
   "display_name": "Python 3",
   "language": "python",
   "name": "python3"
  },
  "language_info": {
   "codemirror_mode": {
    "name": "ipython",
    "version": 3
   },
   "file_extension": ".py",
   "mimetype": "text/x-python",
   "name": "python",
   "nbconvert_exporter": "python",
   "pygments_lexer": "ipython3",
   "version": "3.11.2"
  },
  "orig_nbformat": 4
 },
 "nbformat": 4,
 "nbformat_minor": 2
}
